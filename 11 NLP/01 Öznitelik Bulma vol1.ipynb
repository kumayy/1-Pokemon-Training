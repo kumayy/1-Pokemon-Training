{
 "cells": [
  {
   "cell_type": "markdown",
   "metadata": {},
   "source": [
    "# **Öznitelik Bulma**\n",
    "**Feature Extraction**"
   ]
  },
  {
   "cell_type": "markdown",
   "metadata": {},
   "source": [
    "## Metin Okuma"
   ]
  },
  {
   "cell_type": "code",
   "execution_count": 1,
   "metadata": {},
   "outputs": [
    {
     "name": "stdout",
     "output_type": "stream",
     "text": [
      "Cause you are hot then you are cold\n",
      "You are yes then you are no\n",
      "You are in then you are out\n",
      "You are up then you are down\n",
      "You are wrong when it is right\n",
      "It is black and it is white\n",
      "We fight we break up\n",
      "We kiss we make up\n",
      "You do not really want to stay no\n",
      "But you do not really want to go\n",
      "You are hot then you are cold\n",
      "You are yes then you are no\n",
      "You are in then you are out\n",
      "You are up then you are down\n"
     ]
    }
   ],
   "source": [
    "with open(\"katy1.txt\") as text:\n",
    "    print(text.read())"
   ]
  },
  {
   "cell_type": "code",
   "execution_count": 2,
   "metadata": {},
   "outputs": [
    {
     "name": "stdout",
     "output_type": "stream",
     "text": [
      "Cause baby you are a firework\n",
      "Come on show them what you are worth\n",
      "Make them go \n",
      "Oh oh oh\n",
      "As you shoot across the sky\n",
      "Baby you are a firework\n",
      "Come on let your colors burst\n",
      "Make them go \n",
      "Oh oh oh\n",
      "You are gonna leave them all in awe awe awe\n"
     ]
    }
   ],
   "source": [
    "with open(\"katy2.txt\") as text2:\n",
    "    print(text2.read())"
   ]
  },
  {
   "cell_type": "code",
   "execution_count": 3,
   "metadata": {},
   "outputs": [
    {
     "data": {
      "text/plain": [
       "<_io.TextIOWrapper name='katy1.txt' mode='r' encoding='cp1254'>"
      ]
     },
     "execution_count": 3,
     "metadata": {},
     "output_type": "execute_result"
    }
   ],
   "source": [
    "text"
   ]
  },
  {
   "cell_type": "code",
   "execution_count": 4,
   "metadata": {},
   "outputs": [
    {
     "data": {
      "text/plain": [
       "['Cause you are hot then you are cold\\n',\n",
       " 'You are yes then you are no\\n',\n",
       " 'You are in then you are out\\n',\n",
       " 'You are up then you are down\\n',\n",
       " 'You are wrong when it is right\\n',\n",
       " 'It is black and it is white\\n',\n",
       " 'We fight we break up\\n',\n",
       " 'We kiss we make up\\n',\n",
       " 'You do not really want to stay no\\n',\n",
       " 'But you do not really want to go\\n',\n",
       " 'You are hot then you are cold\\n',\n",
       " 'You are yes then you are no\\n',\n",
       " 'You are in then you are out\\n',\n",
       " 'You are up then you are down']"
      ]
     },
     "execution_count": 4,
     "metadata": {},
     "output_type": "execute_result"
    }
   ],
   "source": [
    "with open(\"katy1.txt\") as text:\n",
    "    satır = text.readlines()\n",
    "satır\n",
    "# Liste halinde satırları okur"
   ]
  },
  {
   "cell_type": "code",
   "execution_count": 5,
   "metadata": {},
   "outputs": [
    {
     "data": {
      "text/plain": [
       "['Cause you are hot then you are cold\\n',\n",
       " 'You are yes then you are no\\n',\n",
       " 'You are in then you are out\\n',\n",
       " 'You are up then you are down\\n',\n",
       " 'You are wrong when it is right\\n',\n",
       " 'It is black and it is white\\n',\n",
       " 'We fight we break up\\n',\n",
       " 'We kiss we make up\\n',\n",
       " 'You do not really want to stay no\\n',\n",
       " 'But you do not really want to go\\n',\n",
       " 'You are hot then you are cold\\n',\n",
       " 'You are yes then you are no\\n',\n",
       " 'You are in then you are out\\n',\n",
       " 'You are up then you are down']"
      ]
     },
     "execution_count": 5,
     "metadata": {},
     "output_type": "execute_result"
    }
   ],
   "source": [
    "satır"
   ]
  },
  {
   "cell_type": "code",
   "execution_count": 6,
   "metadata": {},
   "outputs": [
    {
     "data": {
      "text/plain": [
       "'Cause you are hot then you are cold\\nYou are yes then you are no\\nYou are in then you are out\\nYou are up then you are down\\nYou are wrong when it is right\\nIt is black and it is white\\nWe fight we break up\\nWe kiss we make up\\nYou do not really want to stay no\\nBut you do not really want to go\\nYou are hot then you are cold\\nYou are yes then you are no\\nYou are in then you are out\\nYou are up then you are down'"
      ]
     },
     "execution_count": 6,
     "metadata": {},
     "output_type": "execute_result"
    }
   ],
   "source": [
    "with open(\"katy1.txt\") as text:\n",
    "    hot_n_cold = text.read()\n",
    "hot_n_cold\n",
    "# Metni bütün olarak okur"
   ]
  },
  {
   "cell_type": "code",
   "execution_count": 7,
   "metadata": {},
   "outputs": [
    {
     "name": "stdout",
     "output_type": "stream",
     "text": [
      "Cause you are hot then you are cold\n",
      "You are yes then you are no\n",
      "You are in then you are out\n",
      "You are up then you are down\n",
      "You are wrong when it is right\n",
      "It is black and it is white\n",
      "We fight we break up\n",
      "We kiss we make up\n",
      "You do not really want to stay no\n",
      "But you do not really want to go\n",
      "You are hot then you are cold\n",
      "You are yes then you are no\n",
      "You are in then you are out\n",
      "You are up then you are down\n"
     ]
    }
   ],
   "source": [
    "print(hot_n_cold)"
   ]
  },
  {
   "cell_type": "code",
   "execution_count": 8,
   "metadata": {},
   "outputs": [
    {
     "data": {
      "text/plain": [
       "['cause',\n",
       " 'you',\n",
       " 'are',\n",
       " 'hot',\n",
       " 'then',\n",
       " 'you',\n",
       " 'are',\n",
       " 'cold',\n",
       " 'you',\n",
       " 'are',\n",
       " 'yes',\n",
       " 'then',\n",
       " 'you',\n",
       " 'are',\n",
       " 'no',\n",
       " 'you',\n",
       " 'are',\n",
       " 'in',\n",
       " 'then',\n",
       " 'you',\n",
       " 'are',\n",
       " 'out',\n",
       " 'you',\n",
       " 'are',\n",
       " 'up',\n",
       " 'then',\n",
       " 'you',\n",
       " 'are',\n",
       " 'down',\n",
       " 'you',\n",
       " 'are',\n",
       " 'wrong',\n",
       " 'when',\n",
       " 'it',\n",
       " 'is',\n",
       " 'right',\n",
       " 'it',\n",
       " 'is',\n",
       " 'black',\n",
       " 'and',\n",
       " 'it',\n",
       " 'is',\n",
       " 'white',\n",
       " 'we',\n",
       " 'fight',\n",
       " 'we',\n",
       " 'break',\n",
       " 'up',\n",
       " 'we',\n",
       " 'kiss',\n",
       " 'we',\n",
       " 'make',\n",
       " 'up',\n",
       " 'you',\n",
       " 'do',\n",
       " 'not',\n",
       " 'really',\n",
       " 'want',\n",
       " 'to',\n",
       " 'stay',\n",
       " 'no',\n",
       " 'but',\n",
       " 'you',\n",
       " 'do',\n",
       " 'not',\n",
       " 'really',\n",
       " 'want',\n",
       " 'to',\n",
       " 'go',\n",
       " 'you',\n",
       " 'are',\n",
       " 'hot',\n",
       " 'then',\n",
       " 'you',\n",
       " 'are',\n",
       " 'cold',\n",
       " 'you',\n",
       " 'are',\n",
       " 'yes',\n",
       " 'then',\n",
       " 'you',\n",
       " 'are',\n",
       " 'no',\n",
       " 'you',\n",
       " 'are',\n",
       " 'in',\n",
       " 'then',\n",
       " 'you',\n",
       " 'are',\n",
       " 'out',\n",
       " 'you',\n",
       " 'are',\n",
       " 'up',\n",
       " 'then',\n",
       " 'you',\n",
       " 'are',\n",
       " 'down']"
      ]
     },
     "execution_count": 8,
     "metadata": {},
     "output_type": "execute_result"
    }
   ],
   "source": [
    "with open(\"katy1.txt\") as text:\n",
    "    kelime = text.read().lower().split()\n",
    "kelime"
   ]
  },
  {
   "cell_type": "markdown",
   "metadata": {},
   "source": [
    "---\n",
    "## Eşsiz Kelimeler ve Kelime Çantası (Bag of Words"
   ]
  },
  {
   "cell_type": "code",
   "execution_count": 9,
   "metadata": {},
   "outputs": [
    {
     "data": {
      "text/plain": [
       "97"
      ]
     },
     "execution_count": 9,
     "metadata": {},
     "output_type": "execute_result"
    }
   ],
   "source": [
    "len(kelime)"
   ]
  },
  {
   "cell_type": "code",
   "execution_count": 10,
   "metadata": {},
   "outputs": [
    {
     "data": {
      "text/plain": [
       "33"
      ]
     },
     "execution_count": 10,
     "metadata": {},
     "output_type": "execute_result"
    }
   ],
   "source": [
    "tekil_kelime = set(kelime)\n",
    "len(tekil_kelime)"
   ]
  },
  {
   "cell_type": "code",
   "execution_count": 11,
   "metadata": {},
   "outputs": [
    {
     "data": {
      "text/plain": [
       "{'and',\n",
       " 'are',\n",
       " 'black',\n",
       " 'break',\n",
       " 'but',\n",
       " 'cause',\n",
       " 'cold',\n",
       " 'do',\n",
       " 'down',\n",
       " 'fight',\n",
       " 'go',\n",
       " 'hot',\n",
       " 'in',\n",
       " 'is',\n",
       " 'it',\n",
       " 'kiss',\n",
       " 'make',\n",
       " 'no',\n",
       " 'not',\n",
       " 'out',\n",
       " 'really',\n",
       " 'right',\n",
       " 'stay',\n",
       " 'then',\n",
       " 'to',\n",
       " 'up',\n",
       " 'want',\n",
       " 'we',\n",
       " 'when',\n",
       " 'white',\n",
       " 'wrong',\n",
       " 'yes',\n",
       " 'you'}"
      ]
     },
     "execution_count": 11,
     "metadata": {},
     "output_type": "execute_result"
    }
   ],
   "source": [
    "tekil_kelime"
   ]
  },
  {
   "cell_type": "code",
   "execution_count": 12,
   "metadata": {},
   "outputs": [
    {
     "data": {
      "text/plain": [
       "{'a',\n",
       " 'across',\n",
       " 'all',\n",
       " 'are',\n",
       " 'as',\n",
       " 'awe',\n",
       " 'baby',\n",
       " 'burst',\n",
       " 'cause',\n",
       " 'colors',\n",
       " 'come',\n",
       " 'firework',\n",
       " 'go',\n",
       " 'gonna',\n",
       " 'in',\n",
       " 'leave',\n",
       " 'let',\n",
       " 'make',\n",
       " 'oh',\n",
       " 'on',\n",
       " 'shoot',\n",
       " 'show',\n",
       " 'sky',\n",
       " 'the',\n",
       " 'them',\n",
       " 'what',\n",
       " 'worth',\n",
       " 'you',\n",
       " 'your'}"
      ]
     },
     "execution_count": 12,
     "metadata": {},
     "output_type": "execute_result"
    }
   ],
   "source": [
    "with open(\"katy2.txt\") as text2:\n",
    "    kelime2 = text2.read().lower().split()\n",
    "    tekil_kelime_2 = set(kelime2)\n",
    "tekil_kelime_2"
   ]
  },
  {
   "cell_type": "code",
   "execution_count": 13,
   "metadata": {},
   "outputs": [
    {
     "name": "stdout",
     "output_type": "stream",
     "text": [
      "53\n",
      "29\n"
     ]
    }
   ],
   "source": [
    "print(len(kelime2))\n",
    "print(len(tekil_kelime_2))\n"
   ]
  },
  {
   "cell_type": "code",
   "execution_count": 14,
   "metadata": {},
   "outputs": [],
   "source": [
    "toplam_tekil = set()"
   ]
  },
  {
   "cell_type": "code",
   "execution_count": 15,
   "metadata": {},
   "outputs": [
    {
     "data": {
      "text/plain": [
       "set()"
      ]
     },
     "execution_count": 15,
     "metadata": {},
     "output_type": "execute_result"
    }
   ],
   "source": [
    "toplam_tekil"
   ]
  },
  {
   "cell_type": "code",
   "execution_count": 16,
   "metadata": {},
   "outputs": [
    {
     "data": {
      "text/plain": [
       "{'a',\n",
       " 'across',\n",
       " 'all',\n",
       " 'and',\n",
       " 'are',\n",
       " 'as',\n",
       " 'awe',\n",
       " 'baby',\n",
       " 'black',\n",
       " 'break',\n",
       " 'burst',\n",
       " 'but',\n",
       " 'cause',\n",
       " 'cold',\n",
       " 'colors',\n",
       " 'come',\n",
       " 'do',\n",
       " 'down',\n",
       " 'fight',\n",
       " 'firework',\n",
       " 'go',\n",
       " 'gonna',\n",
       " 'hot',\n",
       " 'in',\n",
       " 'is',\n",
       " 'it',\n",
       " 'kiss',\n",
       " 'leave',\n",
       " 'let',\n",
       " 'make',\n",
       " 'no',\n",
       " 'not',\n",
       " 'oh',\n",
       " 'on',\n",
       " 'out',\n",
       " 'really',\n",
       " 'right',\n",
       " 'shoot',\n",
       " 'show',\n",
       " 'sky',\n",
       " 'stay',\n",
       " 'the',\n",
       " 'them',\n",
       " 'then',\n",
       " 'to',\n",
       " 'up',\n",
       " 'want',\n",
       " 'we',\n",
       " 'what',\n",
       " 'when',\n",
       " 'white',\n",
       " 'worth',\n",
       " 'wrong',\n",
       " 'yes',\n",
       " 'you',\n",
       " 'your'}"
      ]
     },
     "execution_count": 16,
     "metadata": {},
     "output_type": "execute_result"
    }
   ],
   "source": [
    "toplam_tekil.update(tekil_kelime)\n",
    "toplam_tekil.update(tekil_kelime_2)\n",
    "toplam_tekil"
   ]
  },
  {
   "cell_type": "code",
   "execution_count": 17,
   "metadata": {},
   "outputs": [
    {
     "data": {
      "text/plain": [
       "56"
      ]
     },
     "execution_count": 17,
     "metadata": {},
     "output_type": "execute_result"
    }
   ],
   "source": [
    "len(toplam_tekil)"
   ]
  },
  {
   "cell_type": "code",
   "execution_count": 18,
   "metadata": {},
   "outputs": [
    {
     "data": {
      "text/plain": [
       "{'are': 0,\n",
       " 'down': 1,\n",
       " 'stay': 2,\n",
       " 'break': 3,\n",
       " 'cause': 4,\n",
       " 'oh': 5,\n",
       " 'right': 6,\n",
       " 'your': 7,\n",
       " 'fight': 8,\n",
       " 'do': 9,\n",
       " 'worth': 10,\n",
       " 'in': 11,\n",
       " 'really': 12,\n",
       " 'sky': 13,\n",
       " 'when': 14,\n",
       " 'black': 15,\n",
       " 'make': 16,\n",
       " 'out': 17,\n",
       " 'is': 18,\n",
       " 'white': 19,\n",
       " 'kiss': 20,\n",
       " 'let': 21,\n",
       " 'the': 22,\n",
       " 'what': 23,\n",
       " 'it': 24,\n",
       " 'burst': 25,\n",
       " 'then': 26,\n",
       " 'we': 27,\n",
       " 'you': 28,\n",
       " 'gonna': 29,\n",
       " 'cold': 30,\n",
       " 'wrong': 31,\n",
       " 'a': 32,\n",
       " 'and': 33,\n",
       " 'all': 34,\n",
       " 'yes': 35,\n",
       " 'to': 36,\n",
       " 'them': 37,\n",
       " 'want': 38,\n",
       " 'go': 39,\n",
       " 'no': 40,\n",
       " 'firework': 41,\n",
       " 'come': 42,\n",
       " 'hot': 43,\n",
       " 'up': 44,\n",
       " 'colors': 45,\n",
       " 'awe': 46,\n",
       " 'baby': 47,\n",
       " 'shoot': 48,\n",
       " 'show': 49,\n",
       " 'as': 50,\n",
       " 'not': 51,\n",
       " 'across': 52,\n",
       " 'leave': 53,\n",
       " 'on': 54,\n",
       " 'but': 55}"
      ]
     },
     "execution_count": 18,
     "metadata": {},
     "output_type": "execute_result"
    }
   ],
   "source": [
    "tum_kelimeler = dict()\n",
    "i=0\n",
    "\n",
    "for k in toplam_tekil:\n",
    "    tum_kelimeler[k] = i\n",
    "    i+=1\n",
    "\n",
    "tum_kelimeler\n",
    "# set veri türünde işlem yaptığı için hız optimizasyonu sebebiyle alfabetik sıradan çıkmış olması normal."
   ]
  },
  {
   "cell_type": "markdown",
   "metadata": {},
   "source": [
    "---\n",
    "## Sözcük Sıklığı (Frequency Counts)"
   ]
  },
  {
   "cell_type": "code",
   "execution_count": 19,
   "metadata": {},
   "outputs": [],
   "source": [
    "freq_1 = [0]*len(tum_kelimeler)\n",
    "freq_2 = [0]*len(tum_kelimeler)\n",
    "sozcuk_freq = [\"\"]*len(tum_kelimeler)"
   ]
  },
  {
   "cell_type": "code",
   "execution_count": 20,
   "metadata": {},
   "outputs": [
    {
     "name": "stdout",
     "output_type": "stream",
     "text": [
      "freq 1 : [0, 0, 0, 0, 0, 0, 0, 0, 0, 0, 0, 0, 0, 0, 0, 0, 0, 0, 0, 0, 0, 0, 0, 0, 0, 0, 0, 0, 0, 0, 0, 0, 0, 0, 0, 0, 0, 0, 0, 0, 0, 0, 0, 0, 0, 0, 0, 0, 0, 0, 0, 0, 0, 0, 0, 0] \n",
      "\n",
      "freq 2 : [0, 0, 0, 0, 0, 0, 0, 0, 0, 0, 0, 0, 0, 0, 0, 0, 0, 0, 0, 0, 0, 0, 0, 0, 0, 0, 0, 0, 0, 0, 0, 0, 0, 0, 0, 0, 0, 0, 0, 0, 0, 0, 0, 0, 0, 0, 0, 0, 0, 0, 0, 0, 0, 0, 0, 0] \n",
      "\n",
      "FREQ : ['', '', '', '', '', '', '', '', '', '', '', '', '', '', '', '', '', '', '', '', '', '', '', '', '', '', '', '', '', '', '', '', '', '', '', '', '', '', '', '', '', '', '', '', '', '', '', '', '', '', '', '', '', '', '', '']\n"
     ]
    }
   ],
   "source": [
    "print(\"freq 1 :\",freq_1,\"\\n\")\n",
    "print(\"freq 2 :\",freq_2,\"\\n\")\n",
    "print(\"FREQ :\", sozcuk_freq)"
   ]
  },
  {
   "cell_type": "code",
   "execution_count": 21,
   "metadata": {},
   "outputs": [],
   "source": [
    "for k in tum_kelimeler:\n",
    "    kelime_ind = tum_kelimeler[k]\n",
    "    sozcuk_freq[kelime_ind] = k"
   ]
  },
  {
   "cell_type": "code",
   "execution_count": 22,
   "metadata": {},
   "outputs": [
    {
     "data": {
      "text/plain": [
       "['are',\n",
       " 'down',\n",
       " 'stay',\n",
       " 'break',\n",
       " 'cause',\n",
       " 'oh',\n",
       " 'right',\n",
       " 'your',\n",
       " 'fight',\n",
       " 'do',\n",
       " 'worth',\n",
       " 'in',\n",
       " 'really',\n",
       " 'sky',\n",
       " 'when',\n",
       " 'black',\n",
       " 'make',\n",
       " 'out',\n",
       " 'is',\n",
       " 'white',\n",
       " 'kiss',\n",
       " 'let',\n",
       " 'the',\n",
       " 'what',\n",
       " 'it',\n",
       " 'burst',\n",
       " 'then',\n",
       " 'we',\n",
       " 'you',\n",
       " 'gonna',\n",
       " 'cold',\n",
       " 'wrong',\n",
       " 'a',\n",
       " 'and',\n",
       " 'all',\n",
       " 'yes',\n",
       " 'to',\n",
       " 'them',\n",
       " 'want',\n",
       " 'go',\n",
       " 'no',\n",
       " 'firework',\n",
       " 'come',\n",
       " 'hot',\n",
       " 'up',\n",
       " 'colors',\n",
       " 'awe',\n",
       " 'baby',\n",
       " 'shoot',\n",
       " 'show',\n",
       " 'as',\n",
       " 'not',\n",
       " 'across',\n",
       " 'leave',\n",
       " 'on',\n",
       " 'but']"
      ]
     },
     "execution_count": 22,
     "metadata": {},
     "output_type": "execute_result"
    }
   ],
   "source": [
    "sozcuk_freq"
   ]
  },
  {
   "cell_type": "markdown",
   "metadata": {},
   "source": [
    "### Kelime Sayacı"
   ]
  },
  {
   "cell_type": "code",
   "execution_count": 23,
   "metadata": {},
   "outputs": [],
   "source": [
    "with open(\"katy1.txt\") as t:\n",
    "    text1 = t.read().lower().split()\n",
    "\n",
    "for k in text1:\n",
    "    kelime_ind = tum_kelimeler[k]\n",
    "    freq_1[kelime_ind] +=1"
   ]
  },
  {
   "cell_type": "code",
   "execution_count": 24,
   "metadata": {},
   "outputs": [
    {
     "name": "stdout",
     "output_type": "stream",
     "text": [
      "[17, 2, 1, 1, 1, 0, 1, 0, 1, 2, 0, 2, 2, 0, 1, 1, 1, 2, 3, 1, 1, 0, 0, 0, 3, 0, 8, 4, 19, 0, 2, 1, 0, 1, 0, 2, 2, 0, 2, 1, 3, 0, 0, 2, 4, 0, 0, 0, 0, 0, 0, 2, 0, 0, 0, 1]\n"
     ]
    }
   ],
   "source": [
    "print(freq_1)"
   ]
  },
  {
   "cell_type": "code",
   "execution_count": 25,
   "metadata": {},
   "outputs": [],
   "source": [
    "with open(\"katy2.txt\") as t:\n",
    "    text2 = t.read().lower().split()\n",
    "\n",
    "for k in text2:\n",
    "    kelime_ind = tum_kelimeler[k]\n",
    "    freq_2[kelime_ind] +=1"
   ]
  },
  {
   "cell_type": "code",
   "execution_count": 26,
   "metadata": {},
   "outputs": [
    {
     "name": "stdout",
     "output_type": "stream",
     "text": [
      "[4, 0, 0, 0, 1, 6, 0, 1, 0, 0, 1, 1, 0, 1, 0, 0, 2, 0, 0, 0, 0, 1, 1, 1, 0, 1, 0, 0, 5, 1, 0, 0, 2, 0, 1, 0, 0, 4, 0, 2, 0, 2, 2, 0, 0, 1, 3, 2, 1, 1, 1, 0, 1, 1, 2, 0]\n"
     ]
    }
   ],
   "source": [
    "print(freq_2)"
   ]
  },
  {
   "cell_type": "code",
   "execution_count": 27,
   "metadata": {},
   "outputs": [],
   "source": [
    "import pandas as pd"
   ]
  },
  {
   "cell_type": "code",
   "execution_count": 28,
   "metadata": {},
   "outputs": [],
   "source": [
    "df = pd.DataFrame(data=[freq_1,freq_2], columns=sozcuk_freq)"
   ]
  },
  {
   "cell_type": "code",
   "execution_count": 30,
   "metadata": {},
   "outputs": [
    {
     "data": {
      "text/html": [
       "<div>\n",
       "<style scoped>\n",
       "    .dataframe tbody tr th:only-of-type {\n",
       "        vertical-align: middle;\n",
       "    }\n",
       "\n",
       "    .dataframe tbody tr th {\n",
       "        vertical-align: top;\n",
       "    }\n",
       "\n",
       "    .dataframe thead th {\n",
       "        text-align: right;\n",
       "    }\n",
       "</style>\n",
       "<table border=\"1\" class=\"dataframe\">\n",
       "  <thead>\n",
       "    <tr style=\"text-align: right;\">\n",
       "      <th></th>\n",
       "      <th>0</th>\n",
       "      <th>1</th>\n",
       "    </tr>\n",
       "  </thead>\n",
       "  <tbody>\n",
       "    <tr>\n",
       "      <th>are</th>\n",
       "      <td>17</td>\n",
       "      <td>4</td>\n",
       "    </tr>\n",
       "    <tr>\n",
       "      <th>down</th>\n",
       "      <td>2</td>\n",
       "      <td>0</td>\n",
       "    </tr>\n",
       "    <tr>\n",
       "      <th>stay</th>\n",
       "      <td>1</td>\n",
       "      <td>0</td>\n",
       "    </tr>\n",
       "    <tr>\n",
       "      <th>break</th>\n",
       "      <td>1</td>\n",
       "      <td>0</td>\n",
       "    </tr>\n",
       "    <tr>\n",
       "      <th>cause</th>\n",
       "      <td>1</td>\n",
       "      <td>1</td>\n",
       "    </tr>\n",
       "    <tr>\n",
       "      <th>oh</th>\n",
       "      <td>0</td>\n",
       "      <td>6</td>\n",
       "    </tr>\n",
       "    <tr>\n",
       "      <th>right</th>\n",
       "      <td>1</td>\n",
       "      <td>0</td>\n",
       "    </tr>\n",
       "    <tr>\n",
       "      <th>your</th>\n",
       "      <td>0</td>\n",
       "      <td>1</td>\n",
       "    </tr>\n",
       "    <tr>\n",
       "      <th>fight</th>\n",
       "      <td>1</td>\n",
       "      <td>0</td>\n",
       "    </tr>\n",
       "    <tr>\n",
       "      <th>do</th>\n",
       "      <td>2</td>\n",
       "      <td>0</td>\n",
       "    </tr>\n",
       "    <tr>\n",
       "      <th>worth</th>\n",
       "      <td>0</td>\n",
       "      <td>1</td>\n",
       "    </tr>\n",
       "    <tr>\n",
       "      <th>in</th>\n",
       "      <td>2</td>\n",
       "      <td>1</td>\n",
       "    </tr>\n",
       "    <tr>\n",
       "      <th>really</th>\n",
       "      <td>2</td>\n",
       "      <td>0</td>\n",
       "    </tr>\n",
       "    <tr>\n",
       "      <th>sky</th>\n",
       "      <td>0</td>\n",
       "      <td>1</td>\n",
       "    </tr>\n",
       "    <tr>\n",
       "      <th>when</th>\n",
       "      <td>1</td>\n",
       "      <td>0</td>\n",
       "    </tr>\n",
       "    <tr>\n",
       "      <th>black</th>\n",
       "      <td>1</td>\n",
       "      <td>0</td>\n",
       "    </tr>\n",
       "    <tr>\n",
       "      <th>make</th>\n",
       "      <td>1</td>\n",
       "      <td>2</td>\n",
       "    </tr>\n",
       "    <tr>\n",
       "      <th>out</th>\n",
       "      <td>2</td>\n",
       "      <td>0</td>\n",
       "    </tr>\n",
       "    <tr>\n",
       "      <th>is</th>\n",
       "      <td>3</td>\n",
       "      <td>0</td>\n",
       "    </tr>\n",
       "    <tr>\n",
       "      <th>white</th>\n",
       "      <td>1</td>\n",
       "      <td>0</td>\n",
       "    </tr>\n",
       "    <tr>\n",
       "      <th>kiss</th>\n",
       "      <td>1</td>\n",
       "      <td>0</td>\n",
       "    </tr>\n",
       "    <tr>\n",
       "      <th>let</th>\n",
       "      <td>0</td>\n",
       "      <td>1</td>\n",
       "    </tr>\n",
       "    <tr>\n",
       "      <th>the</th>\n",
       "      <td>0</td>\n",
       "      <td>1</td>\n",
       "    </tr>\n",
       "    <tr>\n",
       "      <th>what</th>\n",
       "      <td>0</td>\n",
       "      <td>1</td>\n",
       "    </tr>\n",
       "    <tr>\n",
       "      <th>it</th>\n",
       "      <td>3</td>\n",
       "      <td>0</td>\n",
       "    </tr>\n",
       "    <tr>\n",
       "      <th>burst</th>\n",
       "      <td>0</td>\n",
       "      <td>1</td>\n",
       "    </tr>\n",
       "    <tr>\n",
       "      <th>then</th>\n",
       "      <td>8</td>\n",
       "      <td>0</td>\n",
       "    </tr>\n",
       "    <tr>\n",
       "      <th>we</th>\n",
       "      <td>4</td>\n",
       "      <td>0</td>\n",
       "    </tr>\n",
       "    <tr>\n",
       "      <th>you</th>\n",
       "      <td>19</td>\n",
       "      <td>5</td>\n",
       "    </tr>\n",
       "    <tr>\n",
       "      <th>gonna</th>\n",
       "      <td>0</td>\n",
       "      <td>1</td>\n",
       "    </tr>\n",
       "    <tr>\n",
       "      <th>cold</th>\n",
       "      <td>2</td>\n",
       "      <td>0</td>\n",
       "    </tr>\n",
       "    <tr>\n",
       "      <th>wrong</th>\n",
       "      <td>1</td>\n",
       "      <td>0</td>\n",
       "    </tr>\n",
       "    <tr>\n",
       "      <th>a</th>\n",
       "      <td>0</td>\n",
       "      <td>2</td>\n",
       "    </tr>\n",
       "    <tr>\n",
       "      <th>and</th>\n",
       "      <td>1</td>\n",
       "      <td>0</td>\n",
       "    </tr>\n",
       "    <tr>\n",
       "      <th>all</th>\n",
       "      <td>0</td>\n",
       "      <td>1</td>\n",
       "    </tr>\n",
       "    <tr>\n",
       "      <th>yes</th>\n",
       "      <td>2</td>\n",
       "      <td>0</td>\n",
       "    </tr>\n",
       "    <tr>\n",
       "      <th>to</th>\n",
       "      <td>2</td>\n",
       "      <td>0</td>\n",
       "    </tr>\n",
       "    <tr>\n",
       "      <th>them</th>\n",
       "      <td>0</td>\n",
       "      <td>4</td>\n",
       "    </tr>\n",
       "    <tr>\n",
       "      <th>want</th>\n",
       "      <td>2</td>\n",
       "      <td>0</td>\n",
       "    </tr>\n",
       "    <tr>\n",
       "      <th>go</th>\n",
       "      <td>1</td>\n",
       "      <td>2</td>\n",
       "    </tr>\n",
       "    <tr>\n",
       "      <th>no</th>\n",
       "      <td>3</td>\n",
       "      <td>0</td>\n",
       "    </tr>\n",
       "    <tr>\n",
       "      <th>firework</th>\n",
       "      <td>0</td>\n",
       "      <td>2</td>\n",
       "    </tr>\n",
       "    <tr>\n",
       "      <th>come</th>\n",
       "      <td>0</td>\n",
       "      <td>2</td>\n",
       "    </tr>\n",
       "    <tr>\n",
       "      <th>hot</th>\n",
       "      <td>2</td>\n",
       "      <td>0</td>\n",
       "    </tr>\n",
       "    <tr>\n",
       "      <th>up</th>\n",
       "      <td>4</td>\n",
       "      <td>0</td>\n",
       "    </tr>\n",
       "    <tr>\n",
       "      <th>colors</th>\n",
       "      <td>0</td>\n",
       "      <td>1</td>\n",
       "    </tr>\n",
       "    <tr>\n",
       "      <th>awe</th>\n",
       "      <td>0</td>\n",
       "      <td>3</td>\n",
       "    </tr>\n",
       "    <tr>\n",
       "      <th>baby</th>\n",
       "      <td>0</td>\n",
       "      <td>2</td>\n",
       "    </tr>\n",
       "    <tr>\n",
       "      <th>shoot</th>\n",
       "      <td>0</td>\n",
       "      <td>1</td>\n",
       "    </tr>\n",
       "    <tr>\n",
       "      <th>show</th>\n",
       "      <td>0</td>\n",
       "      <td>1</td>\n",
       "    </tr>\n",
       "    <tr>\n",
       "      <th>as</th>\n",
       "      <td>0</td>\n",
       "      <td>1</td>\n",
       "    </tr>\n",
       "    <tr>\n",
       "      <th>not</th>\n",
       "      <td>2</td>\n",
       "      <td>0</td>\n",
       "    </tr>\n",
       "    <tr>\n",
       "      <th>across</th>\n",
       "      <td>0</td>\n",
       "      <td>1</td>\n",
       "    </tr>\n",
       "    <tr>\n",
       "      <th>leave</th>\n",
       "      <td>0</td>\n",
       "      <td>1</td>\n",
       "    </tr>\n",
       "    <tr>\n",
       "      <th>on</th>\n",
       "      <td>0</td>\n",
       "      <td>2</td>\n",
       "    </tr>\n",
       "    <tr>\n",
       "      <th>but</th>\n",
       "      <td>1</td>\n",
       "      <td>0</td>\n",
       "    </tr>\n",
       "  </tbody>\n",
       "</table>\n",
       "</div>"
      ],
      "text/plain": [
       "           0  1\n",
       "are       17  4\n",
       "down       2  0\n",
       "stay       1  0\n",
       "break      1  0\n",
       "cause      1  1\n",
       "oh         0  6\n",
       "right      1  0\n",
       "your       0  1\n",
       "fight      1  0\n",
       "do         2  0\n",
       "worth      0  1\n",
       "in         2  1\n",
       "really     2  0\n",
       "sky        0  1\n",
       "when       1  0\n",
       "black      1  0\n",
       "make       1  2\n",
       "out        2  0\n",
       "is         3  0\n",
       "white      1  0\n",
       "kiss       1  0\n",
       "let        0  1\n",
       "the        0  1\n",
       "what       0  1\n",
       "it         3  0\n",
       "burst      0  1\n",
       "then       8  0\n",
       "we         4  0\n",
       "you       19  5\n",
       "gonna      0  1\n",
       "cold       2  0\n",
       "wrong      1  0\n",
       "a          0  2\n",
       "and        1  0\n",
       "all        0  1\n",
       "yes        2  0\n",
       "to         2  0\n",
       "them       0  4\n",
       "want       2  0\n",
       "go         1  2\n",
       "no         3  0\n",
       "firework   0  2\n",
       "come       0  2\n",
       "hot        2  0\n",
       "up         4  0\n",
       "colors     0  1\n",
       "awe        0  3\n",
       "baby       0  2\n",
       "shoot      0  1\n",
       "show       0  1\n",
       "as         0  1\n",
       "not        2  0\n",
       "across     0  1\n",
       "leave      0  1\n",
       "on         0  2\n",
       "but        1  0"
      ]
     },
     "execution_count": 30,
     "metadata": {},
     "output_type": "execute_result"
    }
   ],
   "source": [
    "df_T = df.transpose()\n",
    "df_T"
   ]
  },
  {
   "cell_type": "markdown",
   "metadata": {},
   "source": [
    "# **https://www.youtube.com/watch?v=kTHNpusq654**"
   ]
  },
  {
   "cell_type": "markdown",
   "metadata": {},
   "source": []
  }
 ],
 "metadata": {
  "kernelspec": {
   "display_name": "Python 3.9.12 ('base')",
   "language": "python",
   "name": "python3"
  },
  "language_info": {
   "codemirror_mode": {
    "name": "ipython",
    "version": 3
   },
   "file_extension": ".py",
   "mimetype": "text/x-python",
   "name": "python",
   "nbconvert_exporter": "python",
   "pygments_lexer": "ipython3",
   "version": "3.9.12"
  },
  "orig_nbformat": 4,
  "vscode": {
   "interpreter": {
    "hash": "5ff393b50e062acb3f950345d2a9ba472eefef394df8d413112dca3e4dfea570"
   }
  }
 },
 "nbformat": 4,
 "nbformat_minor": 2
}
