{
 "cells": [
  {
   "cell_type": "markdown",
   "metadata": {},
   "source": [
    "# **SK-Learn Öznitelik Bulma**"
   ]
  },
  {
   "cell_type": "code",
   "execution_count": 78,
   "metadata": {},
   "outputs": [],
   "source": [
    "metin = {\n",
    "    \"Domates Biber Patlıcan\",\n",
    "    \"Patatesli Patlıcan Oturtma\",\n",
    "    \"Bir Adet Patlıcan\",\n",
    "    \"Bir Orta Boy Patlıcan\",\n",
    "}\n"
   ]
  },
  {
   "cell_type": "code",
   "execution_count": 79,
   "metadata": {},
   "outputs": [],
   "source": [
    "text = {\n",
    "    \"I am Optimus Prime, and I send this message to any surviving Autobots taking refuge among the stars\",\n",
    "    \"We are here\",\n",
    "    \"We are waiting\",\n",
    "    \"I am Optimus Prime, and this message is to my Creators\",\n",
    "    \"Leave planet Earth alone\",\n",
    "    \"Because I am coming for you\"\n",
    "}"
   ]
  },
  {
   "cell_type": "markdown",
   "metadata": {},
   "source": [
    "## Count Vectorizer"
   ]
  },
  {
   "cell_type": "code",
   "execution_count": 80,
   "metadata": {},
   "outputs": [],
   "source": [
    "from sklearn.feature_extraction.text import CountVectorizer"
   ]
  },
  {
   "cell_type": "code",
   "execution_count": 81,
   "metadata": {},
   "outputs": [],
   "source": [
    "cv = CountVectorizer()"
   ]
  },
  {
   "cell_type": "code",
   "execution_count": 82,
   "metadata": {},
   "outputs": [
    {
     "data": {
      "text/plain": [
       "<4x9 sparse matrix of type '<class 'numpy.int64'>'\n",
       "\twith 13 stored elements in Compressed Sparse Row format>"
      ]
     },
     "execution_count": 82,
     "metadata": {},
     "output_type": "execute_result"
    }
   ],
   "source": [
    "cv.fit_transform(metin)"
   ]
  },
  {
   "cell_type": "code",
   "execution_count": 83,
   "metadata": {},
   "outputs": [
    {
     "data": {
      "text/plain": [
       "matrix([[0, 1, 0, 0, 1, 0, 0, 0, 1],\n",
       "        [1, 0, 1, 0, 0, 0, 0, 0, 1],\n",
       "        [0, 0, 1, 1, 0, 1, 0, 0, 1],\n",
       "        [0, 0, 0, 0, 0, 0, 1, 1, 1]], dtype=int64)"
      ]
     },
     "execution_count": 83,
     "metadata": {},
     "output_type": "execute_result"
    }
   ],
   "source": [
    "cv.fit_transform(metin).todense()"
   ]
  },
  {
   "cell_type": "code",
   "execution_count": 84,
   "metadata": {},
   "outputs": [],
   "source": [
    "seyrek = cv.fit_transform(metin)\n",
    "# Sparse Matrix = Seyrek Matris"
   ]
  },
  {
   "cell_type": "code",
   "execution_count": 85,
   "metadata": {},
   "outputs": [
    {
     "data": {
      "text/plain": [
       "matrix([[0, 1, 0, 0, 1, 0, 0, 0, 1],\n",
       "        [1, 0, 1, 0, 0, 0, 0, 0, 1],\n",
       "        [0, 0, 1, 1, 0, 1, 0, 0, 1],\n",
       "        [0, 0, 0, 0, 0, 0, 1, 1, 1]], dtype=int64)"
      ]
     },
     "execution_count": 85,
     "metadata": {},
     "output_type": "execute_result"
    }
   ],
   "source": [
    "seyrek.todense()"
   ]
  },
  {
   "cell_type": "code",
   "execution_count": 86,
   "metadata": {},
   "outputs": [
    {
     "data": {
      "text/plain": [
       "{'domates': 4,\n",
       " 'biber': 1,\n",
       " 'patlıcan': 8,\n",
       " 'bir': 2,\n",
       " 'adet': 0,\n",
       " 'orta': 5,\n",
       " 'boy': 3,\n",
       " 'patatesli': 7,\n",
       " 'oturtma': 6}"
      ]
     },
     "execution_count": 86,
     "metadata": {},
     "output_type": "execute_result"
    }
   ],
   "source": [
    "cv.vocabulary_"
   ]
  },
  {
   "cell_type": "markdown",
   "metadata": {},
   "source": [
    "---\n",
    "## Stopwords"
   ]
  },
  {
   "cell_type": "code",
   "execution_count": 87,
   "metadata": {},
   "outputs": [
    {
     "data": {
      "text/plain": [
       "<6x31 sparse matrix of type '<class 'numpy.int64'>'\n",
       "\twith 41 stored elements in Compressed Sparse Row format>"
      ]
     },
     "execution_count": 87,
     "metadata": {},
     "output_type": "execute_result"
    }
   ],
   "source": [
    "cv.fit_transform(text)"
   ]
  },
  {
   "cell_type": "code",
   "execution_count": 88,
   "metadata": {},
   "outputs": [],
   "source": [
    "sparse = cv.fit_transform(text)\n",
    "sparse_mat = sparse.todense()"
   ]
  },
  {
   "cell_type": "code",
   "execution_count": 89,
   "metadata": {},
   "outputs": [
    {
     "data": {
      "text/plain": [
       "matrix([[1, 0, 0, 0, 0, 0, 0, 0, 0, 0, 1, 0, 0, 0, 1, 0, 0, 0, 1, 0, 0,\n",
       "         0, 0, 0, 0, 0, 0, 0, 0, 0, 0],\n",
       "        [0, 1, 0, 1, 0, 0, 0, 0, 0, 1, 0, 0, 0, 1, 0, 1, 1, 1, 0, 1, 0,\n",
       "         0, 0, 0, 0, 0, 1, 1, 0, 0, 0],\n",
       "        [0, 1, 1, 1, 1, 0, 1, 0, 0, 0, 0, 0, 0, 0, 0, 1, 0, 1, 0, 1, 1,\n",
       "         1, 1, 1, 1, 1, 1, 1, 0, 0, 0],\n",
       "        [0, 0, 0, 0, 0, 1, 0, 0, 0, 0, 0, 0, 0, 0, 0, 0, 0, 0, 0, 0, 0,\n",
       "         0, 0, 0, 0, 0, 0, 0, 1, 1, 0],\n",
       "        [0, 0, 0, 0, 0, 1, 0, 0, 0, 0, 0, 0, 1, 0, 0, 0, 0, 0, 0, 0, 0,\n",
       "         0, 0, 0, 0, 0, 0, 0, 0, 1, 0],\n",
       "        [0, 1, 0, 0, 0, 0, 0, 1, 1, 0, 0, 1, 0, 0, 0, 0, 0, 0, 0, 0, 0,\n",
       "         0, 0, 0, 0, 0, 0, 0, 0, 0, 1]], dtype=int64)"
      ]
     },
     "execution_count": 89,
     "metadata": {},
     "output_type": "execute_result"
    }
   ],
   "source": [
    "sparse_mat"
   ]
  },
  {
   "cell_type": "code",
   "execution_count": 90,
   "metadata": {},
   "outputs": [
    {
     "data": {
      "text/plain": [
       "{'leave': 14,\n",
       " 'planet': 18,\n",
       " 'earth': 10,\n",
       " 'alone': 0,\n",
       " 'am': 1,\n",
       " 'optimus': 17,\n",
       " 'prime': 19,\n",
       " 'and': 3,\n",
       " 'this': 26,\n",
       " 'message': 15,\n",
       " 'is': 13,\n",
       " 'to': 27,\n",
       " 'my': 16,\n",
       " 'creators': 9,\n",
       " 'send': 21,\n",
       " 'any': 4,\n",
       " 'surviving': 23,\n",
       " 'autobots': 6,\n",
       " 'taking': 24,\n",
       " 'refuge': 20,\n",
       " 'among': 2,\n",
       " 'the': 25,\n",
       " 'stars': 22,\n",
       " 'we': 29,\n",
       " 'are': 5,\n",
       " 'waiting': 28,\n",
       " 'here': 12,\n",
       " 'because': 7,\n",
       " 'coming': 8,\n",
       " 'for': 11,\n",
       " 'you': 30}"
      ]
     },
     "execution_count": 90,
     "metadata": {},
     "output_type": "execute_result"
    }
   ],
   "source": [
    "cv.vocabulary_"
   ]
  },
  {
   "cell_type": "code",
   "execution_count": 91,
   "metadata": {},
   "outputs": [
    {
     "data": {
      "text/plain": [
       "(6, 31)"
      ]
     },
     "execution_count": 91,
     "metadata": {},
     "output_type": "execute_result"
    }
   ],
   "source": [
    "sparse_mat.shape"
   ]
  },
  {
   "cell_type": "code",
   "execution_count": 92,
   "metadata": {},
   "outputs": [],
   "source": [
    "cv = CountVectorizer(stop_words=\"english\")"
   ]
  },
  {
   "cell_type": "code",
   "execution_count": 93,
   "metadata": {},
   "outputs": [],
   "source": [
    "stoplu = cv.fit_transform(text).todense()"
   ]
  },
  {
   "cell_type": "code",
   "execution_count": 94,
   "metadata": {},
   "outputs": [
    {
     "data": {
      "text/plain": [
       "matrix([[0, 0, 0, 1, 1, 0, 0, 1, 0, 0, 0, 0, 0, 0, 0],\n",
       "        [0, 0, 1, 0, 0, 1, 1, 0, 1, 0, 0, 0, 0, 0, 0],\n",
       "        [1, 0, 0, 0, 0, 1, 1, 0, 1, 1, 1, 1, 1, 1, 0],\n",
       "        [0, 0, 0, 0, 0, 0, 0, 0, 0, 0, 0, 0, 0, 0, 1],\n",
       "        [0, 0, 0, 0, 0, 0, 0, 0, 0, 0, 0, 0, 0, 0, 0],\n",
       "        [0, 1, 0, 0, 0, 0, 0, 0, 0, 0, 0, 0, 0, 0, 0]], dtype=int64)"
      ]
     },
     "execution_count": 94,
     "metadata": {},
     "output_type": "execute_result"
    }
   ],
   "source": [
    "stoplu"
   ]
  },
  {
   "cell_type": "code",
   "execution_count": 95,
   "metadata": {},
   "outputs": [
    {
     "data": {
      "text/plain": [
       "(6, 15)"
      ]
     },
     "execution_count": 95,
     "metadata": {},
     "output_type": "execute_result"
    }
   ],
   "source": [
    "stoplu.shape"
   ]
  },
  {
   "cell_type": "code",
   "execution_count": 96,
   "metadata": {},
   "outputs": [
    {
     "data": {
      "text/plain": [
       "{'leave': 4,\n",
       " 'planet': 7,\n",
       " 'earth': 3,\n",
       " 'optimus': 6,\n",
       " 'prime': 8,\n",
       " 'message': 5,\n",
       " 'creators': 2,\n",
       " 'send': 10,\n",
       " 'surviving': 12,\n",
       " 'autobots': 0,\n",
       " 'taking': 13,\n",
       " 'refuge': 9,\n",
       " 'stars': 11,\n",
       " 'waiting': 14,\n",
       " 'coming': 1}"
      ]
     },
     "execution_count": 96,
     "metadata": {},
     "output_type": "execute_result"
    }
   ],
   "source": [
    "cv.vocabulary_"
   ]
  },
  {
   "cell_type": "markdown",
   "metadata": {},
   "source": [
    "---\n",
    "## TF - IDF Transform"
   ]
  },
  {
   "cell_type": "code",
   "execution_count": 97,
   "metadata": {},
   "outputs": [],
   "source": [
    "from sklearn.feature_extraction.text import TfidfTransformer, TfidfVectorizer"
   ]
  },
  {
   "cell_type": "code",
   "execution_count": 98,
   "metadata": {},
   "outputs": [
    {
     "data": {
      "text/plain": [
       "{'Because I am coming for you',\n",
       " 'I am Optimus Prime, and I send this message to any surviving Autobots taking refuge among the stars',\n",
       " 'I am Optimus Prime, and this message is to my Creators',\n",
       " 'Leave planet Earth alone',\n",
       " 'We are here',\n",
       " 'We are waiting'}"
      ]
     },
     "execution_count": 98,
     "metadata": {},
     "output_type": "execute_result"
    }
   ],
   "source": [
    "text"
   ]
  },
  {
   "cell_type": "code",
   "execution_count": 99,
   "metadata": {},
   "outputs": [
    {
     "data": {
      "text/plain": [
       "CountVectorizer(stop_words='english')"
      ]
     },
     "execution_count": 99,
     "metadata": {},
     "output_type": "execute_result"
    }
   ],
   "source": [
    "cv"
   ]
  },
  {
   "cell_type": "code",
   "execution_count": 100,
   "metadata": {},
   "outputs": [],
   "source": [
    "cv = CountVectorizer()"
   ]
  },
  {
   "cell_type": "code",
   "execution_count": 101,
   "metadata": {},
   "outputs": [],
   "source": [
    "kelime_say = cv.fit_transform(text)"
   ]
  },
  {
   "cell_type": "code",
   "execution_count": 102,
   "metadata": {},
   "outputs": [
    {
     "data": {
      "text/plain": [
       "<6x31 sparse matrix of type '<class 'numpy.int64'>'\n",
       "\twith 41 stored elements in Compressed Sparse Row format>"
      ]
     },
     "execution_count": 102,
     "metadata": {},
     "output_type": "execute_result"
    }
   ],
   "source": [
    "kelime_say"
   ]
  },
  {
   "cell_type": "code",
   "execution_count": 104,
   "metadata": {},
   "outputs": [],
   "source": [
    "tfidf_transformer = TfidfTransformer()"
   ]
  },
  {
   "cell_type": "code",
   "execution_count": 106,
   "metadata": {},
   "outputs": [],
   "source": [
    "tfidf = tfidf_transformer.fit_transform(kelime_say)"
   ]
  },
  {
   "cell_type": "code",
   "execution_count": 107,
   "metadata": {},
   "outputs": [
    {
     "data": {
      "text/plain": [
       "matrix([[0.5       , 0.        , 0.        , 0.        , 0.        ,\n",
       "         0.        , 0.        , 0.        , 0.        , 0.        ,\n",
       "         0.5       , 0.        , 0.        , 0.        , 0.5       ,\n",
       "         0.        , 0.        , 0.        , 0.5       , 0.        ,\n",
       "         0.        , 0.        , 0.        , 0.        , 0.        ,\n",
       "         0.        , 0.        , 0.        , 0.        , 0.        ,\n",
       "         0.        ],\n",
       "        [0.        , 0.25256388, 0.        , 0.29915105, 0.        ,\n",
       "         0.        , 0.        , 0.        , 0.        , 0.36481199,\n",
       "         0.        , 0.        , 0.        , 0.36481199, 0.        ,\n",
       "         0.29915105, 0.36481199, 0.29915105, 0.        , 0.29915105,\n",
       "         0.        , 0.        , 0.        , 0.        , 0.        ,\n",
       "         0.        , 0.29915105, 0.29915105, 0.        , 0.        ,\n",
       "         0.        ],\n",
       "        [0.        , 0.18832708, 0.27202615, 0.22306534, 0.27202615,\n",
       "         0.        , 0.27202615, 0.        , 0.        , 0.        ,\n",
       "         0.        , 0.        , 0.        , 0.        , 0.        ,\n",
       "         0.22306534, 0.        , 0.22306534, 0.        , 0.22306534,\n",
       "         0.27202615, 0.27202615, 0.27202615, 0.27202615, 0.27202615,\n",
       "         0.27202615, 0.22306534, 0.22306534, 0.        , 0.        ,\n",
       "         0.        ],\n",
       "        [0.        , 0.        , 0.        , 0.        , 0.        ,\n",
       "         0.5355058 , 0.        , 0.        , 0.        , 0.        ,\n",
       "         0.        , 0.        , 0.        , 0.        , 0.        ,\n",
       "         0.        , 0.        , 0.        , 0.        , 0.        ,\n",
       "         0.        , 0.        , 0.        , 0.        , 0.        ,\n",
       "         0.        , 0.        , 0.        , 0.65304446, 0.5355058 ,\n",
       "         0.        ],\n",
       "        [0.        , 0.        , 0.        , 0.        , 0.        ,\n",
       "         0.5355058 , 0.        , 0.        , 0.        , 0.        ,\n",
       "         0.        , 0.        , 0.65304446, 0.        , 0.        ,\n",
       "         0.        , 0.        , 0.        , 0.        , 0.        ,\n",
       "         0.        , 0.        , 0.        , 0.        , 0.        ,\n",
       "         0.        , 0.        , 0.        , 0.        , 0.5355058 ,\n",
       "         0.        ],\n",
       "        [0.        , 0.32711256, 0.        , 0.        , 0.        ,\n",
       "         0.        , 0.        , 0.47249269, 0.47249269, 0.        ,\n",
       "         0.        , 0.47249269, 0.        , 0.        , 0.        ,\n",
       "         0.        , 0.        , 0.        , 0.        , 0.        ,\n",
       "         0.        , 0.        , 0.        , 0.        , 0.        ,\n",
       "         0.        , 0.        , 0.        , 0.        , 0.        ,\n",
       "         0.47249269]])"
      ]
     },
     "execution_count": 107,
     "metadata": {},
     "output_type": "execute_result"
    }
   ],
   "source": [
    "tfidf.todense()"
   ]
  },
  {
   "cell_type": "markdown",
   "metadata": {},
   "source": [
    "### Pipeline"
   ]
  },
  {
   "cell_type": "code",
   "execution_count": 108,
   "metadata": {},
   "outputs": [],
   "source": [
    "from sklearn.pipeline import Pipeline"
   ]
  },
  {
   "cell_type": "code",
   "execution_count": 109,
   "metadata": {},
   "outputs": [],
   "source": [
    "boru = Pipeline([(\"cv\", CountVectorizer()),(\"tfidf\",TfidfTransformer())])"
   ]
  },
  {
   "cell_type": "code",
   "execution_count": 110,
   "metadata": {},
   "outputs": [
    {
     "data": {
      "text/plain": [
       "<6x31 sparse matrix of type '<class 'numpy.float64'>'\n",
       "\twith 41 stored elements in Compressed Sparse Row format>"
      ]
     },
     "execution_count": 110,
     "metadata": {},
     "output_type": "execute_result"
    }
   ],
   "source": [
    "final_matrix = boru.fit_transform(text)\n",
    "final_matrix"
   ]
  },
  {
   "cell_type": "code",
   "execution_count": 111,
   "metadata": {},
   "outputs": [
    {
     "data": {
      "text/plain": [
       "matrix([[0.5       , 0.        , 0.        , 0.        , 0.        ,\n",
       "         0.        , 0.        , 0.        , 0.        , 0.        ,\n",
       "         0.5       , 0.        , 0.        , 0.        , 0.5       ,\n",
       "         0.        , 0.        , 0.        , 0.5       , 0.        ,\n",
       "         0.        , 0.        , 0.        , 0.        , 0.        ,\n",
       "         0.        , 0.        , 0.        , 0.        , 0.        ,\n",
       "         0.        ],\n",
       "        [0.        , 0.25256388, 0.        , 0.29915105, 0.        ,\n",
       "         0.        , 0.        , 0.        , 0.        , 0.36481199,\n",
       "         0.        , 0.        , 0.        , 0.36481199, 0.        ,\n",
       "         0.29915105, 0.36481199, 0.29915105, 0.        , 0.29915105,\n",
       "         0.        , 0.        , 0.        , 0.        , 0.        ,\n",
       "         0.        , 0.29915105, 0.29915105, 0.        , 0.        ,\n",
       "         0.        ],\n",
       "        [0.        , 0.18832708, 0.27202615, 0.22306534, 0.27202615,\n",
       "         0.        , 0.27202615, 0.        , 0.        , 0.        ,\n",
       "         0.        , 0.        , 0.        , 0.        , 0.        ,\n",
       "         0.22306534, 0.        , 0.22306534, 0.        , 0.22306534,\n",
       "         0.27202615, 0.27202615, 0.27202615, 0.27202615, 0.27202615,\n",
       "         0.27202615, 0.22306534, 0.22306534, 0.        , 0.        ,\n",
       "         0.        ],\n",
       "        [0.        , 0.        , 0.        , 0.        , 0.        ,\n",
       "         0.5355058 , 0.        , 0.        , 0.        , 0.        ,\n",
       "         0.        , 0.        , 0.        , 0.        , 0.        ,\n",
       "         0.        , 0.        , 0.        , 0.        , 0.        ,\n",
       "         0.        , 0.        , 0.        , 0.        , 0.        ,\n",
       "         0.        , 0.        , 0.        , 0.65304446, 0.5355058 ,\n",
       "         0.        ],\n",
       "        [0.        , 0.        , 0.        , 0.        , 0.        ,\n",
       "         0.5355058 , 0.        , 0.        , 0.        , 0.        ,\n",
       "         0.        , 0.        , 0.65304446, 0.        , 0.        ,\n",
       "         0.        , 0.        , 0.        , 0.        , 0.        ,\n",
       "         0.        , 0.        , 0.        , 0.        , 0.        ,\n",
       "         0.        , 0.        , 0.        , 0.        , 0.5355058 ,\n",
       "         0.        ],\n",
       "        [0.        , 0.32711256, 0.        , 0.        , 0.        ,\n",
       "         0.        , 0.        , 0.47249269, 0.47249269, 0.        ,\n",
       "         0.        , 0.47249269, 0.        , 0.        , 0.        ,\n",
       "         0.        , 0.        , 0.        , 0.        , 0.        ,\n",
       "         0.        , 0.        , 0.        , 0.        , 0.        ,\n",
       "         0.        , 0.        , 0.        , 0.        , 0.        ,\n",
       "         0.47249269]])"
      ]
     },
     "execution_count": 111,
     "metadata": {},
     "output_type": "execute_result"
    }
   ],
   "source": [
    "final_matrix.todense()"
   ]
  },
  {
   "cell_type": "markdown",
   "metadata": {},
   "source": [
    "---\n",
    "## TF - IDF Vectorizer"
   ]
  },
  {
   "cell_type": "code",
   "execution_count": 112,
   "metadata": {},
   "outputs": [],
   "source": [
    "tfidf = TfidfVectorizer()"
   ]
  },
  {
   "cell_type": "code",
   "execution_count": 113,
   "metadata": {},
   "outputs": [],
   "source": [
    "en_final_matris = tfidf.fit_transform(text)"
   ]
  },
  {
   "cell_type": "code",
   "execution_count": 114,
   "metadata": {},
   "outputs": [
    {
     "data": {
      "text/plain": [
       "matrix([[0.5       , 0.        , 0.        , 0.        , 0.        ,\n",
       "         0.        , 0.        , 0.        , 0.        , 0.        ,\n",
       "         0.5       , 0.        , 0.        , 0.        , 0.5       ,\n",
       "         0.        , 0.        , 0.        , 0.5       , 0.        ,\n",
       "         0.        , 0.        , 0.        , 0.        , 0.        ,\n",
       "         0.        , 0.        , 0.        , 0.        , 0.        ,\n",
       "         0.        ],\n",
       "        [0.        , 0.25256388, 0.        , 0.29915105, 0.        ,\n",
       "         0.        , 0.        , 0.        , 0.        , 0.36481199,\n",
       "         0.        , 0.        , 0.        , 0.36481199, 0.        ,\n",
       "         0.29915105, 0.36481199, 0.29915105, 0.        , 0.29915105,\n",
       "         0.        , 0.        , 0.        , 0.        , 0.        ,\n",
       "         0.        , 0.29915105, 0.29915105, 0.        , 0.        ,\n",
       "         0.        ],\n",
       "        [0.        , 0.18832708, 0.27202615, 0.22306534, 0.27202615,\n",
       "         0.        , 0.27202615, 0.        , 0.        , 0.        ,\n",
       "         0.        , 0.        , 0.        , 0.        , 0.        ,\n",
       "         0.22306534, 0.        , 0.22306534, 0.        , 0.22306534,\n",
       "         0.27202615, 0.27202615, 0.27202615, 0.27202615, 0.27202615,\n",
       "         0.27202615, 0.22306534, 0.22306534, 0.        , 0.        ,\n",
       "         0.        ],\n",
       "        [0.        , 0.        , 0.        , 0.        , 0.        ,\n",
       "         0.5355058 , 0.        , 0.        , 0.        , 0.        ,\n",
       "         0.        , 0.        , 0.        , 0.        , 0.        ,\n",
       "         0.        , 0.        , 0.        , 0.        , 0.        ,\n",
       "         0.        , 0.        , 0.        , 0.        , 0.        ,\n",
       "         0.        , 0.        , 0.        , 0.65304446, 0.5355058 ,\n",
       "         0.        ],\n",
       "        [0.        , 0.        , 0.        , 0.        , 0.        ,\n",
       "         0.5355058 , 0.        , 0.        , 0.        , 0.        ,\n",
       "         0.        , 0.        , 0.65304446, 0.        , 0.        ,\n",
       "         0.        , 0.        , 0.        , 0.        , 0.        ,\n",
       "         0.        , 0.        , 0.        , 0.        , 0.        ,\n",
       "         0.        , 0.        , 0.        , 0.        , 0.5355058 ,\n",
       "         0.        ],\n",
       "        [0.        , 0.32711256, 0.        , 0.        , 0.        ,\n",
       "         0.        , 0.        , 0.47249269, 0.47249269, 0.        ,\n",
       "         0.        , 0.47249269, 0.        , 0.        , 0.        ,\n",
       "         0.        , 0.        , 0.        , 0.        , 0.        ,\n",
       "         0.        , 0.        , 0.        , 0.        , 0.        ,\n",
       "         0.        , 0.        , 0.        , 0.        , 0.        ,\n",
       "         0.47249269]])"
      ]
     },
     "execution_count": 114,
     "metadata": {},
     "output_type": "execute_result"
    }
   ],
   "source": [
    "en_final_matris.todense()"
   ]
  },
  {
   "cell_type": "markdown",
   "metadata": {},
   "source": [
    "# **https://www.youtube.com/watch?v=2CIXYQlm2Ho**"
   ]
  },
  {
   "cell_type": "markdown",
   "metadata": {},
   "source": [
    "# Bu da benden https://www.youtube.com/watch?v=iEUDfS6fMwY"
   ]
  },
  {
   "cell_type": "code",
   "execution_count": null,
   "metadata": {},
   "outputs": [],
   "source": []
  }
 ],
 "metadata": {
  "kernelspec": {
   "display_name": "Python 3.9.12 ('base')",
   "language": "python",
   "name": "python3"
  },
  "language_info": {
   "codemirror_mode": {
    "name": "ipython",
    "version": 3
   },
   "file_extension": ".py",
   "mimetype": "text/x-python",
   "name": "python",
   "nbconvert_exporter": "python",
   "pygments_lexer": "ipython3",
   "version": "3.9.12"
  },
  "orig_nbformat": 4,
  "vscode": {
   "interpreter": {
    "hash": "5ff393b50e062acb3f950345d2a9ba472eefef394df8d413112dca3e4dfea570"
   }
  }
 },
 "nbformat": 4,
 "nbformat_minor": 2
}
