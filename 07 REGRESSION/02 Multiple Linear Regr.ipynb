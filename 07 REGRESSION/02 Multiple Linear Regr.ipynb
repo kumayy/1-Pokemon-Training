{
 "cells": [
  {
   "cell_type": "markdown",
   "metadata": {},
   "source": [
    "# **LINEAR REGRESSION**\n",
    "\n",
    "###### *with multiple variable*"
   ]
  },
  {
   "cell_type": "markdown",
   "metadata": {},
   "source": [
    "## Import"
   ]
  },
  {
   "cell_type": "code",
   "execution_count": 1,
   "metadata": {},
   "outputs": [],
   "source": [
    "import numpy as np\n",
    "import pandas as pd\n",
    "import matplotlib.pyplot as plt\n",
    "import seaborn as sns"
   ]
  },
  {
   "cell_type": "code",
   "execution_count": 2,
   "metadata": {},
   "outputs": [],
   "source": [
    "df = pd.read_csv(\"community_health.csv\")"
   ]
  },
  {
   "cell_type": "code",
   "execution_count": 3,
   "metadata": {},
   "outputs": [
    {
     "data": {
      "text/html": [
       "<div>\n",
       "<style scoped>\n",
       "    .dataframe tbody tr th:only-of-type {\n",
       "        vertical-align: middle;\n",
       "    }\n",
       "\n",
       "    .dataframe tbody tr th {\n",
       "        vertical-align: top;\n",
       "    }\n",
       "\n",
       "    .dataframe thead th {\n",
       "        text-align: right;\n",
       "    }\n",
       "</style>\n",
       "<table border=\"1\" class=\"dataframe\">\n",
       "  <thead>\n",
       "    <tr style=\"text-align: right;\">\n",
       "      <th></th>\n",
       "      <th>age</th>\n",
       "      <th>gender</th>\n",
       "      <th>race/ethnicity</th>\n",
       "      <th>weight</th>\n",
       "      <th>height</th>\n",
       "      <th>visits</th>\n",
       "    </tr>\n",
       "  </thead>\n",
       "  <tbody>\n",
       "    <tr>\n",
       "      <th>0</th>\n",
       "      <td>47</td>\n",
       "      <td>female</td>\n",
       "      <td>group D</td>\n",
       "      <td>247</td>\n",
       "      <td>65</td>\n",
       "      <td>28</td>\n",
       "    </tr>\n",
       "    <tr>\n",
       "      <th>1</th>\n",
       "      <td>26</td>\n",
       "      <td>male</td>\n",
       "      <td>group C</td>\n",
       "      <td>283</td>\n",
       "      <td>66</td>\n",
       "      <td>23</td>\n",
       "    </tr>\n",
       "    <tr>\n",
       "      <th>2</th>\n",
       "      <td>26</td>\n",
       "      <td>male</td>\n",
       "      <td>group B</td>\n",
       "      <td>201</td>\n",
       "      <td>68</td>\n",
       "      <td>14</td>\n",
       "    </tr>\n",
       "    <tr>\n",
       "      <th>3</th>\n",
       "      <td>39</td>\n",
       "      <td>male</td>\n",
       "      <td>group C</td>\n",
       "      <td>237</td>\n",
       "      <td>73</td>\n",
       "      <td>21</td>\n",
       "    </tr>\n",
       "    <tr>\n",
       "      <th>4</th>\n",
       "      <td>55</td>\n",
       "      <td>male</td>\n",
       "      <td>group A</td>\n",
       "      <td>199</td>\n",
       "      <td>61</td>\n",
       "      <td>27</td>\n",
       "    </tr>\n",
       "    <tr>\n",
       "      <th>...</th>\n",
       "      <td>...</td>\n",
       "      <td>...</td>\n",
       "      <td>...</td>\n",
       "      <td>...</td>\n",
       "      <td>...</td>\n",
       "      <td>...</td>\n",
       "    </tr>\n",
       "    <tr>\n",
       "      <th>995</th>\n",
       "      <td>43</td>\n",
       "      <td>female</td>\n",
       "      <td>group E</td>\n",
       "      <td>273</td>\n",
       "      <td>68</td>\n",
       "      <td>22</td>\n",
       "    </tr>\n",
       "    <tr>\n",
       "      <th>996</th>\n",
       "      <td>34</td>\n",
       "      <td>female</td>\n",
       "      <td>group D</td>\n",
       "      <td>247</td>\n",
       "      <td>76</td>\n",
       "      <td>16</td>\n",
       "    </tr>\n",
       "    <tr>\n",
       "      <th>997</th>\n",
       "      <td>54</td>\n",
       "      <td>female</td>\n",
       "      <td>group B</td>\n",
       "      <td>310</td>\n",
       "      <td>75</td>\n",
       "      <td>27</td>\n",
       "    </tr>\n",
       "    <tr>\n",
       "      <th>998</th>\n",
       "      <td>38</td>\n",
       "      <td>male</td>\n",
       "      <td>group E</td>\n",
       "      <td>64</td>\n",
       "      <td>75</td>\n",
       "      <td>7</td>\n",
       "    </tr>\n",
       "    <tr>\n",
       "      <th>999</th>\n",
       "      <td>62</td>\n",
       "      <td>female</td>\n",
       "      <td>group D</td>\n",
       "      <td>213</td>\n",
       "      <td>67</td>\n",
       "      <td>22</td>\n",
       "    </tr>\n",
       "  </tbody>\n",
       "</table>\n",
       "<p>1000 rows × 6 columns</p>\n",
       "</div>"
      ],
      "text/plain": [
       "     age  gender race/ethnicity  weight  height  visits\n",
       "0     47  female        group D     247      65      28\n",
       "1     26    male        group C     283      66      23\n",
       "2     26    male        group B     201      68      14\n",
       "3     39    male        group C     237      73      21\n",
       "4     55    male        group A     199      61      27\n",
       "..   ...     ...            ...     ...     ...     ...\n",
       "995   43  female        group E     273      68      22\n",
       "996   34  female        group D     247      76      16\n",
       "997   54  female        group B     310      75      27\n",
       "998   38    male        group E      64      75       7\n",
       "999   62  female        group D     213      67      22\n",
       "\n",
       "[1000 rows x 6 columns]"
      ]
     },
     "execution_count": 3,
     "metadata": {},
     "output_type": "execute_result"
    }
   ],
   "source": [
    "df"
   ]
  },
  {
   "cell_type": "markdown",
   "metadata": {},
   "source": [
    "___\n",
    "___"
   ]
  },
  {
   "cell_type": "markdown",
   "metadata": {},
   "source": [
    "## Data Hakkında"
   ]
  },
  {
   "cell_type": "code",
   "execution_count": 4,
   "metadata": {},
   "outputs": [
    {
     "name": "stdout",
     "output_type": "stream",
     "text": [
      "<class 'pandas.core.frame.DataFrame'>\n",
      "RangeIndex: 1000 entries, 0 to 999\n",
      "Data columns (total 6 columns):\n",
      " #   Column          Non-Null Count  Dtype \n",
      "---  ------          --------------  ----- \n",
      " 0   age             1000 non-null   int64 \n",
      " 1   gender          1000 non-null   object\n",
      " 2   race/ethnicity  1000 non-null   object\n",
      " 3   weight          1000 non-null   int64 \n",
      " 4   height          1000 non-null   int64 \n",
      " 5   visits          1000 non-null   int64 \n",
      "dtypes: int64(4), object(2)\n",
      "memory usage: 47.0+ KB\n"
     ]
    }
   ],
   "source": [
    "df.info()"
   ]
  },
  {
   "cell_type": "code",
   "execution_count": 5,
   "metadata": {},
   "outputs": [
    {
     "data": {
      "text/html": [
       "<div>\n",
       "<style scoped>\n",
       "    .dataframe tbody tr th:only-of-type {\n",
       "        vertical-align: middle;\n",
       "    }\n",
       "\n",
       "    .dataframe tbody tr th {\n",
       "        vertical-align: top;\n",
       "    }\n",
       "\n",
       "    .dataframe thead th {\n",
       "        text-align: right;\n",
       "    }\n",
       "</style>\n",
       "<table border=\"1\" class=\"dataframe\">\n",
       "  <thead>\n",
       "    <tr style=\"text-align: right;\">\n",
       "      <th></th>\n",
       "      <th>age</th>\n",
       "      <th>weight</th>\n",
       "      <th>height</th>\n",
       "      <th>visits</th>\n",
       "    </tr>\n",
       "  </thead>\n",
       "  <tbody>\n",
       "    <tr>\n",
       "      <th>count</th>\n",
       "      <td>1000.000000</td>\n",
       "      <td>1000.000000</td>\n",
       "      <td>1000.000000</td>\n",
       "      <td>1000.000000</td>\n",
       "    </tr>\n",
       "    <tr>\n",
       "      <th>mean</th>\n",
       "      <td>45.019000</td>\n",
       "      <td>199.045000</td>\n",
       "      <td>67.300000</td>\n",
       "      <td>19.956000</td>\n",
       "    </tr>\n",
       "    <tr>\n",
       "      <th>std</th>\n",
       "      <td>14.839166</td>\n",
       "      <td>52.815077</td>\n",
       "      <td>6.285341</td>\n",
       "      <td>6.455055</td>\n",
       "    </tr>\n",
       "    <tr>\n",
       "      <th>min</th>\n",
       "      <td>0.000000</td>\n",
       "      <td>45.000000</td>\n",
       "      <td>46.000000</td>\n",
       "      <td>2.000000</td>\n",
       "    </tr>\n",
       "    <tr>\n",
       "      <th>25%</th>\n",
       "      <td>36.000000</td>\n",
       "      <td>165.000000</td>\n",
       "      <td>63.000000</td>\n",
       "      <td>15.000000</td>\n",
       "    </tr>\n",
       "    <tr>\n",
       "      <th>50%</th>\n",
       "      <td>45.000000</td>\n",
       "      <td>197.000000</td>\n",
       "      <td>67.000000</td>\n",
       "      <td>20.000000</td>\n",
       "    </tr>\n",
       "    <tr>\n",
       "      <th>75%</th>\n",
       "      <td>55.000000</td>\n",
       "      <td>236.000000</td>\n",
       "      <td>72.000000</td>\n",
       "      <td>24.000000</td>\n",
       "    </tr>\n",
       "    <tr>\n",
       "      <th>max</th>\n",
       "      <td>89.000000</td>\n",
       "      <td>356.000000</td>\n",
       "      <td>86.000000</td>\n",
       "      <td>40.000000</td>\n",
       "    </tr>\n",
       "  </tbody>\n",
       "</table>\n",
       "</div>"
      ],
      "text/plain": [
       "               age       weight       height       visits\n",
       "count  1000.000000  1000.000000  1000.000000  1000.000000\n",
       "mean     45.019000   199.045000    67.300000    19.956000\n",
       "std      14.839166    52.815077     6.285341     6.455055\n",
       "min       0.000000    45.000000    46.000000     2.000000\n",
       "25%      36.000000   165.000000    63.000000    15.000000\n",
       "50%      45.000000   197.000000    67.000000    20.000000\n",
       "75%      55.000000   236.000000    72.000000    24.000000\n",
       "max      89.000000   356.000000    86.000000    40.000000"
      ]
     },
     "execution_count": 5,
     "metadata": {},
     "output_type": "execute_result"
    }
   ],
   "source": [
    "df.describe()"
   ]
  },
  {
   "cell_type": "code",
   "execution_count": 6,
   "metadata": {},
   "outputs": [
    {
     "data": {
      "text/plain": [
       "age               0\n",
       "gender            0\n",
       "race/ethnicity    0\n",
       "weight            0\n",
       "height            0\n",
       "visits            0\n",
       "dtype: int64"
      ]
     },
     "execution_count": 6,
     "metadata": {},
     "output_type": "execute_result"
    }
   ],
   "source": [
    "df.isnull().sum()"
   ]
  },
  {
   "cell_type": "code",
   "execution_count": 7,
   "metadata": {},
   "outputs": [
    {
     "data": {
      "text/html": [
       "<div>\n",
       "<style scoped>\n",
       "    .dataframe tbody tr th:only-of-type {\n",
       "        vertical-align: middle;\n",
       "    }\n",
       "\n",
       "    .dataframe tbody tr th {\n",
       "        vertical-align: top;\n",
       "    }\n",
       "\n",
       "    .dataframe thead th {\n",
       "        text-align: right;\n",
       "    }\n",
       "</style>\n",
       "<table border=\"1\" class=\"dataframe\">\n",
       "  <thead>\n",
       "    <tr style=\"text-align: right;\">\n",
       "      <th></th>\n",
       "      <th>age</th>\n",
       "      <th>weight</th>\n",
       "      <th>height</th>\n",
       "      <th>visits</th>\n",
       "    </tr>\n",
       "  </thead>\n",
       "  <tbody>\n",
       "    <tr>\n",
       "      <th>age</th>\n",
       "      <td>1.000000</td>\n",
       "      <td>-0.084920</td>\n",
       "      <td>-0.063822</td>\n",
       "      <td>0.539543</td>\n",
       "    </tr>\n",
       "    <tr>\n",
       "      <th>weight</th>\n",
       "      <td>-0.084920</td>\n",
       "      <td>1.000000</td>\n",
       "      <td>0.142064</td>\n",
       "      <td>0.543139</td>\n",
       "    </tr>\n",
       "    <tr>\n",
       "      <th>height</th>\n",
       "      <td>-0.063822</td>\n",
       "      <td>0.142064</td>\n",
       "      <td>1.000000</td>\n",
       "      <td>-0.385644</td>\n",
       "    </tr>\n",
       "    <tr>\n",
       "      <th>visits</th>\n",
       "      <td>0.539543</td>\n",
       "      <td>0.543139</td>\n",
       "      <td>-0.385644</td>\n",
       "      <td>1.000000</td>\n",
       "    </tr>\n",
       "  </tbody>\n",
       "</table>\n",
       "</div>"
      ],
      "text/plain": [
       "             age    weight    height    visits\n",
       "age     1.000000 -0.084920 -0.063822  0.539543\n",
       "weight -0.084920  1.000000  0.142064  0.543139\n",
       "height -0.063822  0.142064  1.000000 -0.385644\n",
       "visits  0.539543  0.543139 -0.385644  1.000000"
      ]
     },
     "execution_count": 7,
     "metadata": {},
     "output_type": "execute_result"
    }
   ],
   "source": [
    "df.corr()"
   ]
  },
  {
   "cell_type": "markdown",
   "metadata": {},
   "source": [
    "___\n",
    "___"
   ]
  },
  {
   "cell_type": "markdown",
   "metadata": {},
   "source": [
    "## Veriyi Düzenleme"
   ]
  },
  {
   "cell_type": "code",
   "execution_count": 8,
   "metadata": {},
   "outputs": [
    {
     "data": {
      "text/html": [
       "<div>\n",
       "<style scoped>\n",
       "    .dataframe tbody tr th:only-of-type {\n",
       "        vertical-align: middle;\n",
       "    }\n",
       "\n",
       "    .dataframe tbody tr th {\n",
       "        vertical-align: top;\n",
       "    }\n",
       "\n",
       "    .dataframe thead th {\n",
       "        text-align: right;\n",
       "    }\n",
       "</style>\n",
       "<table border=\"1\" class=\"dataframe\">\n",
       "  <thead>\n",
       "    <tr style=\"text-align: right;\">\n",
       "      <th></th>\n",
       "      <th>age</th>\n",
       "      <th>gender</th>\n",
       "      <th>race/ethnicity</th>\n",
       "      <th>weight</th>\n",
       "      <th>height</th>\n",
       "      <th>visits</th>\n",
       "    </tr>\n",
       "  </thead>\n",
       "  <tbody>\n",
       "    <tr>\n",
       "      <th>0</th>\n",
       "      <td>47</td>\n",
       "      <td>female</td>\n",
       "      <td>group D</td>\n",
       "      <td>247</td>\n",
       "      <td>65</td>\n",
       "      <td>28</td>\n",
       "    </tr>\n",
       "    <tr>\n",
       "      <th>1</th>\n",
       "      <td>26</td>\n",
       "      <td>male</td>\n",
       "      <td>group C</td>\n",
       "      <td>283</td>\n",
       "      <td>66</td>\n",
       "      <td>23</td>\n",
       "    </tr>\n",
       "    <tr>\n",
       "      <th>2</th>\n",
       "      <td>26</td>\n",
       "      <td>male</td>\n",
       "      <td>group B</td>\n",
       "      <td>201</td>\n",
       "      <td>68</td>\n",
       "      <td>14</td>\n",
       "    </tr>\n",
       "  </tbody>\n",
       "</table>\n",
       "</div>"
      ],
      "text/plain": [
       "   age  gender race/ethnicity  weight  height  visits\n",
       "0   47  female        group D     247      65      28\n",
       "1   26    male        group C     283      66      23\n",
       "2   26    male        group B     201      68      14"
      ]
     },
     "execution_count": 8,
     "metadata": {},
     "output_type": "execute_result"
    }
   ],
   "source": [
    "df.head(3)"
   ]
  },
  {
   "cell_type": "code",
   "execution_count": 9,
   "metadata": {},
   "outputs": [
    {
     "data": {
      "text/html": [
       "<div>\n",
       "<style scoped>\n",
       "    .dataframe tbody tr th:only-of-type {\n",
       "        vertical-align: middle;\n",
       "    }\n",
       "\n",
       "    .dataframe tbody tr th {\n",
       "        vertical-align: top;\n",
       "    }\n",
       "\n",
       "    .dataframe thead th {\n",
       "        text-align: right;\n",
       "    }\n",
       "</style>\n",
       "<table border=\"1\" class=\"dataframe\">\n",
       "  <thead>\n",
       "    <tr style=\"text-align: right;\">\n",
       "      <th></th>\n",
       "      <th>yas</th>\n",
       "      <th>cins</th>\n",
       "      <th>irk</th>\n",
       "      <th>kilo</th>\n",
       "      <th>boy</th>\n",
       "      <th>visits</th>\n",
       "    </tr>\n",
       "  </thead>\n",
       "  <tbody>\n",
       "    <tr>\n",
       "      <th>0</th>\n",
       "      <td>47</td>\n",
       "      <td>female</td>\n",
       "      <td>group D</td>\n",
       "      <td>247</td>\n",
       "      <td>65</td>\n",
       "      <td>28</td>\n",
       "    </tr>\n",
       "    <tr>\n",
       "      <th>1</th>\n",
       "      <td>26</td>\n",
       "      <td>male</td>\n",
       "      <td>group C</td>\n",
       "      <td>283</td>\n",
       "      <td>66</td>\n",
       "      <td>23</td>\n",
       "    </tr>\n",
       "  </tbody>\n",
       "</table>\n",
       "</div>"
      ],
      "text/plain": [
       "   yas    cins      irk  kilo  boy  visits\n",
       "0   47  female  group D   247   65      28\n",
       "1   26    male  group C   283   66      23"
      ]
     },
     "execution_count": 9,
     "metadata": {},
     "output_type": "execute_result"
    }
   ],
   "source": [
    "df.rename(columns={\n",
    "    \"age\" : \"yas\",\n",
    "    \"gender\" : \"cins\",\n",
    "    \"race/ethnicity\" : \"irk\",\n",
    "    \"weight\" : \"kilo\",\n",
    "    \"height\" : \"boy\"\n",
    "}, inplace= True)\n",
    "df.head(2)"
   ]
  },
  {
   "cell_type": "code",
   "execution_count": 10,
   "metadata": {},
   "outputs": [
    {
     "data": {
      "text/html": [
       "<div>\n",
       "<style scoped>\n",
       "    .dataframe tbody tr th:only-of-type {\n",
       "        vertical-align: middle;\n",
       "    }\n",
       "\n",
       "    .dataframe tbody tr th {\n",
       "        vertical-align: top;\n",
       "    }\n",
       "\n",
       "    .dataframe thead th {\n",
       "        text-align: right;\n",
       "    }\n",
       "</style>\n",
       "<table border=\"1\" class=\"dataframe\">\n",
       "  <thead>\n",
       "    <tr style=\"text-align: right;\">\n",
       "      <th></th>\n",
       "      <th>yas</th>\n",
       "      <th>cins</th>\n",
       "      <th>irk</th>\n",
       "      <th>kilo</th>\n",
       "      <th>boy</th>\n",
       "      <th>visits</th>\n",
       "    </tr>\n",
       "  </thead>\n",
       "  <tbody>\n",
       "    <tr>\n",
       "      <th>0</th>\n",
       "      <td>47</td>\n",
       "      <td>female</td>\n",
       "      <td>group D</td>\n",
       "      <td>112.0</td>\n",
       "      <td>65</td>\n",
       "      <td>28</td>\n",
       "    </tr>\n",
       "    <tr>\n",
       "      <th>1</th>\n",
       "      <td>26</td>\n",
       "      <td>male</td>\n",
       "      <td>group C</td>\n",
       "      <td>128.0</td>\n",
       "      <td>66</td>\n",
       "      <td>23</td>\n",
       "    </tr>\n",
       "  </tbody>\n",
       "</table>\n",
       "</div>"
      ],
      "text/plain": [
       "   yas    cins      irk   kilo  boy  visits\n",
       "0   47  female  group D  112.0   65      28\n",
       "1   26    male  group C  128.0   66      23"
      ]
     },
     "execution_count": 10,
     "metadata": {},
     "output_type": "execute_result"
    }
   ],
   "source": [
    "df[\"kilo\"] = round(df[\"kilo\"]*0.453592)\n",
    "df.head(2)"
   ]
  },
  {
   "cell_type": "code",
   "execution_count": 11,
   "metadata": {},
   "outputs": [
    {
     "data": {
      "text/html": [
       "<div>\n",
       "<style scoped>\n",
       "    .dataframe tbody tr th:only-of-type {\n",
       "        vertical-align: middle;\n",
       "    }\n",
       "\n",
       "    .dataframe tbody tr th {\n",
       "        vertical-align: top;\n",
       "    }\n",
       "\n",
       "    .dataframe thead th {\n",
       "        text-align: right;\n",
       "    }\n",
       "</style>\n",
       "<table border=\"1\" class=\"dataframe\">\n",
       "  <thead>\n",
       "    <tr style=\"text-align: right;\">\n",
       "      <th></th>\n",
       "      <th>yas</th>\n",
       "      <th>cins</th>\n",
       "      <th>irk</th>\n",
       "      <th>kilo</th>\n",
       "      <th>boy</th>\n",
       "      <th>visits</th>\n",
       "    </tr>\n",
       "  </thead>\n",
       "  <tbody>\n",
       "    <tr>\n",
       "      <th>0</th>\n",
       "      <td>47</td>\n",
       "      <td>female</td>\n",
       "      <td>group D</td>\n",
       "      <td>112.0</td>\n",
       "      <td>165.0</td>\n",
       "      <td>28</td>\n",
       "    </tr>\n",
       "    <tr>\n",
       "      <th>1</th>\n",
       "      <td>26</td>\n",
       "      <td>male</td>\n",
       "      <td>group C</td>\n",
       "      <td>128.0</td>\n",
       "      <td>168.0</td>\n",
       "      <td>23</td>\n",
       "    </tr>\n",
       "  </tbody>\n",
       "</table>\n",
       "</div>"
      ],
      "text/plain": [
       "   yas    cins      irk   kilo    boy  visits\n",
       "0   47  female  group D  112.0  165.0      28\n",
       "1   26    male  group C  128.0  168.0      23"
      ]
     },
     "execution_count": 11,
     "metadata": {},
     "output_type": "execute_result"
    }
   ],
   "source": [
    "df[\"boy\"] = round(df[\"boy\"]*2.54)\n",
    "df.head(2)"
   ]
  },
  {
   "cell_type": "code",
   "execution_count": 12,
   "metadata": {},
   "outputs": [
    {
     "data": {
      "text/html": [
       "<div>\n",
       "<style scoped>\n",
       "    .dataframe tbody tr th:only-of-type {\n",
       "        vertical-align: middle;\n",
       "    }\n",
       "\n",
       "    .dataframe tbody tr th {\n",
       "        vertical-align: top;\n",
       "    }\n",
       "\n",
       "    .dataframe thead th {\n",
       "        text-align: right;\n",
       "    }\n",
       "</style>\n",
       "<table border=\"1\" class=\"dataframe\">\n",
       "  <thead>\n",
       "    <tr style=\"text-align: right;\">\n",
       "      <th></th>\n",
       "      <th>yas</th>\n",
       "      <th>cins</th>\n",
       "      <th>irk</th>\n",
       "      <th>kilo</th>\n",
       "      <th>boy</th>\n",
       "      <th>visits</th>\n",
       "    </tr>\n",
       "  </thead>\n",
       "  <tbody>\n",
       "    <tr>\n",
       "      <th>0</th>\n",
       "      <td>47</td>\n",
       "      <td>0</td>\n",
       "      <td>group D</td>\n",
       "      <td>112.0</td>\n",
       "      <td>165.0</td>\n",
       "      <td>28</td>\n",
       "    </tr>\n",
       "    <tr>\n",
       "      <th>1</th>\n",
       "      <td>26</td>\n",
       "      <td>1</td>\n",
       "      <td>group C</td>\n",
       "      <td>128.0</td>\n",
       "      <td>168.0</td>\n",
       "      <td>23</td>\n",
       "    </tr>\n",
       "  </tbody>\n",
       "</table>\n",
       "</div>"
      ],
      "text/plain": [
       "   yas  cins      irk   kilo    boy  visits\n",
       "0   47     0  group D  112.0  165.0      28\n",
       "1   26     1  group C  128.0  168.0      23"
      ]
     },
     "execution_count": 12,
     "metadata": {},
     "output_type": "execute_result"
    }
   ],
   "source": [
    "df[\"cins\"].replace({\n",
    "    \"female\" : 0,\n",
    "    \"male\" : 1\n",
    "}, inplace=True)\n",
    "df.head(2)"
   ]
  },
  {
   "cell_type": "code",
   "execution_count": 13,
   "metadata": {},
   "outputs": [],
   "source": [
    "df[\"irk\"].replace({\n",
    "    \"group A\" : 1,\n",
    "    \"group B\" : 2,\n",
    "    \"group C\" : 3,\n",
    "    \"group D\" : 4,\n",
    "    \"group E\" : 5,\n",
    "}, inplace=True)"
   ]
  },
  {
   "cell_type": "code",
   "execution_count": 14,
   "metadata": {},
   "outputs": [
    {
     "data": {
      "text/html": [
       "<div>\n",
       "<style scoped>\n",
       "    .dataframe tbody tr th:only-of-type {\n",
       "        vertical-align: middle;\n",
       "    }\n",
       "\n",
       "    .dataframe tbody tr th {\n",
       "        vertical-align: top;\n",
       "    }\n",
       "\n",
       "    .dataframe thead th {\n",
       "        text-align: right;\n",
       "    }\n",
       "</style>\n",
       "<table border=\"1\" class=\"dataframe\">\n",
       "  <thead>\n",
       "    <tr style=\"text-align: right;\">\n",
       "      <th></th>\n",
       "      <th>yas</th>\n",
       "      <th>cins</th>\n",
       "      <th>irk</th>\n",
       "      <th>kilo</th>\n",
       "      <th>boy</th>\n",
       "      <th>visits</th>\n",
       "    </tr>\n",
       "  </thead>\n",
       "  <tbody>\n",
       "    <tr>\n",
       "      <th>13</th>\n",
       "      <td>58</td>\n",
       "      <td>0</td>\n",
       "      <td>4</td>\n",
       "      <td>81.0</td>\n",
       "      <td>150.0</td>\n",
       "      <td>22</td>\n",
       "    </tr>\n",
       "    <tr>\n",
       "      <th>14</th>\n",
       "      <td>32</td>\n",
       "      <td>0</td>\n",
       "      <td>5</td>\n",
       "      <td>87.0</td>\n",
       "      <td>119.0</td>\n",
       "      <td>30</td>\n",
       "    </tr>\n",
       "    <tr>\n",
       "      <th>15</th>\n",
       "      <td>34</td>\n",
       "      <td>0</td>\n",
       "      <td>2</td>\n",
       "      <td>87.0</td>\n",
       "      <td>193.0</td>\n",
       "      <td>11</td>\n",
       "    </tr>\n",
       "    <tr>\n",
       "      <th>16</th>\n",
       "      <td>38</td>\n",
       "      <td>0</td>\n",
       "      <td>1</td>\n",
       "      <td>94.0</td>\n",
       "      <td>160.0</td>\n",
       "      <td>19</td>\n",
       "    </tr>\n",
       "    <tr>\n",
       "      <th>17</th>\n",
       "      <td>57</td>\n",
       "      <td>0</td>\n",
       "      <td>3</td>\n",
       "      <td>78.0</td>\n",
       "      <td>152.0</td>\n",
       "      <td>22</td>\n",
       "    </tr>\n",
       "  </tbody>\n",
       "</table>\n",
       "</div>"
      ],
      "text/plain": [
       "    yas  cins  irk  kilo    boy  visits\n",
       "13   58     0    4  81.0  150.0      22\n",
       "14   32     0    5  87.0  119.0      30\n",
       "15   34     0    2  87.0  193.0      11\n",
       "16   38     0    1  94.0  160.0      19\n",
       "17   57     0    3  78.0  152.0      22"
      ]
     },
     "execution_count": 14,
     "metadata": {},
     "output_type": "execute_result"
    }
   ],
   "source": [
    "df.iloc[13:18]"
   ]
  },
  {
   "cell_type": "code",
   "execution_count": 15,
   "metadata": {},
   "outputs": [],
   "source": [
    "df.to_csv(\"community_health_MLR.csv\", index=False)"
   ]
  },
  {
   "cell_type": "markdown",
   "metadata": {},
   "source": [
    "___\n",
    "___"
   ]
  },
  {
   "cell_type": "markdown",
   "metadata": {},
   "source": [
    "## Train Test"
   ]
  },
  {
   "cell_type": "code",
   "execution_count": 16,
   "metadata": {},
   "outputs": [],
   "source": [
    "X = df.drop(\"visits\", axis= 1)\n",
    "y = df[\"visits\"]"
   ]
  },
  {
   "cell_type": "code",
   "execution_count": 17,
   "metadata": {},
   "outputs": [],
   "source": [
    "from sklearn.model_selection import train_test_split"
   ]
  },
  {
   "cell_type": "code",
   "execution_count": 18,
   "metadata": {},
   "outputs": [],
   "source": [
    "X_train, X_test, y_train, y_test = train_test_split(X, y, test_size=0.3, random_state=99)"
   ]
  },
  {
   "cell_type": "code",
   "execution_count": 19,
   "metadata": {},
   "outputs": [],
   "source": [
    "# help(train_test_split)"
   ]
  },
  {
   "cell_type": "code",
   "execution_count": 20,
   "metadata": {},
   "outputs": [
    {
     "data": {
      "text/html": [
       "<div>\n",
       "<style scoped>\n",
       "    .dataframe tbody tr th:only-of-type {\n",
       "        vertical-align: middle;\n",
       "    }\n",
       "\n",
       "    .dataframe tbody tr th {\n",
       "        vertical-align: top;\n",
       "    }\n",
       "\n",
       "    .dataframe thead th {\n",
       "        text-align: right;\n",
       "    }\n",
       "</style>\n",
       "<table border=\"1\" class=\"dataframe\">\n",
       "  <thead>\n",
       "    <tr style=\"text-align: right;\">\n",
       "      <th></th>\n",
       "      <th>yas</th>\n",
       "      <th>cins</th>\n",
       "      <th>irk</th>\n",
       "      <th>kilo</th>\n",
       "      <th>boy</th>\n",
       "    </tr>\n",
       "  </thead>\n",
       "  <tbody>\n",
       "    <tr>\n",
       "      <th>26</th>\n",
       "      <td>45</td>\n",
       "      <td>0</td>\n",
       "      <td>4</td>\n",
       "      <td>101.0</td>\n",
       "      <td>196.0</td>\n",
       "    </tr>\n",
       "    <tr>\n",
       "      <th>155</th>\n",
       "      <td>21</td>\n",
       "      <td>1</td>\n",
       "      <td>5</td>\n",
       "      <td>85.0</td>\n",
       "      <td>178.0</td>\n",
       "    </tr>\n",
       "    <tr>\n",
       "      <th>872</th>\n",
       "      <td>47</td>\n",
       "      <td>1</td>\n",
       "      <td>2</td>\n",
       "      <td>62.0</td>\n",
       "      <td>178.0</td>\n",
       "    </tr>\n",
       "    <tr>\n",
       "      <th>383</th>\n",
       "      <td>64</td>\n",
       "      <td>0</td>\n",
       "      <td>4</td>\n",
       "      <td>72.0</td>\n",
       "      <td>173.0</td>\n",
       "    </tr>\n",
       "    <tr>\n",
       "      <th>648</th>\n",
       "      <td>50</td>\n",
       "      <td>1</td>\n",
       "      <td>3</td>\n",
       "      <td>93.0</td>\n",
       "      <td>163.0</td>\n",
       "    </tr>\n",
       "  </tbody>\n",
       "</table>\n",
       "</div>"
      ],
      "text/plain": [
       "     yas  cins  irk   kilo    boy\n",
       "26    45     0    4  101.0  196.0\n",
       "155   21     1    5   85.0  178.0\n",
       "872   47     1    2   62.0  178.0\n",
       "383   64     0    4   72.0  173.0\n",
       "648   50     1    3   93.0  163.0"
      ]
     },
     "execution_count": 20,
     "metadata": {},
     "output_type": "execute_result"
    }
   ],
   "source": [
    "X_train.head()"
   ]
  },
  {
   "cell_type": "code",
   "execution_count": 21,
   "metadata": {},
   "outputs": [
    {
     "data": {
      "text/plain": [
       "26     18\n",
       "155     8\n",
       "872    18\n",
       "383    20\n",
       "648    24\n",
       "Name: visits, dtype: int64"
      ]
     },
     "execution_count": 21,
     "metadata": {},
     "output_type": "execute_result"
    }
   ],
   "source": [
    "y_train.head()"
   ]
  },
  {
   "cell_type": "code",
   "execution_count": 22,
   "metadata": {},
   "outputs": [
    {
     "data": {
      "text/html": [
       "<div>\n",
       "<style scoped>\n",
       "    .dataframe tbody tr th:only-of-type {\n",
       "        vertical-align: middle;\n",
       "    }\n",
       "\n",
       "    .dataframe tbody tr th {\n",
       "        vertical-align: top;\n",
       "    }\n",
       "\n",
       "    .dataframe thead th {\n",
       "        text-align: right;\n",
       "    }\n",
       "</style>\n",
       "<table border=\"1\" class=\"dataframe\">\n",
       "  <thead>\n",
       "    <tr style=\"text-align: right;\">\n",
       "      <th></th>\n",
       "      <th>yas</th>\n",
       "      <th>cins</th>\n",
       "      <th>irk</th>\n",
       "      <th>kilo</th>\n",
       "      <th>boy</th>\n",
       "    </tr>\n",
       "  </thead>\n",
       "  <tbody>\n",
       "    <tr>\n",
       "      <th>890</th>\n",
       "      <td>72</td>\n",
       "      <td>1</td>\n",
       "      <td>2</td>\n",
       "      <td>88.0</td>\n",
       "      <td>175.0</td>\n",
       "    </tr>\n",
       "    <tr>\n",
       "      <th>983</th>\n",
       "      <td>47</td>\n",
       "      <td>0</td>\n",
       "      <td>2</td>\n",
       "      <td>79.0</td>\n",
       "      <td>183.0</td>\n",
       "    </tr>\n",
       "    <tr>\n",
       "      <th>107</th>\n",
       "      <td>16</td>\n",
       "      <td>0</td>\n",
       "      <td>2</td>\n",
       "      <td>108.0</td>\n",
       "      <td>170.0</td>\n",
       "    </tr>\n",
       "    <tr>\n",
       "      <th>609</th>\n",
       "      <td>34</td>\n",
       "      <td>0</td>\n",
       "      <td>2</td>\n",
       "      <td>61.0</td>\n",
       "      <td>168.0</td>\n",
       "    </tr>\n",
       "    <tr>\n",
       "      <th>113</th>\n",
       "      <td>50</td>\n",
       "      <td>1</td>\n",
       "      <td>2</td>\n",
       "      <td>133.0</td>\n",
       "      <td>170.0</td>\n",
       "    </tr>\n",
       "  </tbody>\n",
       "</table>\n",
       "</div>"
      ],
      "text/plain": [
       "     yas  cins  irk   kilo    boy\n",
       "890   72     1    2   88.0  175.0\n",
       "983   47     0    2   79.0  183.0\n",
       "107   16     0    2  108.0  170.0\n",
       "609   34     0    2   61.0  168.0\n",
       "113   50     1    2  133.0  170.0"
      ]
     },
     "execution_count": 22,
     "metadata": {},
     "output_type": "execute_result"
    }
   ],
   "source": [
    "X_test.head()"
   ]
  },
  {
   "cell_type": "code",
   "execution_count": 23,
   "metadata": {},
   "outputs": [
    {
     "data": {
      "text/plain": [
       "890    25\n",
       "983    20\n",
       "107    19\n",
       "609    16\n",
       "113    29\n",
       "Name: visits, dtype: int64"
      ]
     },
     "execution_count": 23,
     "metadata": {},
     "output_type": "execute_result"
    }
   ],
   "source": [
    "y_test.head()"
   ]
  },
  {
   "cell_type": "markdown",
   "metadata": {},
   "source": [
    "___\n",
    "___"
   ]
  },
  {
   "cell_type": "markdown",
   "metadata": {},
   "source": [
    "## Lin Regr"
   ]
  },
  {
   "cell_type": "code",
   "execution_count": 24,
   "metadata": {},
   "outputs": [],
   "source": [
    "from sklearn.linear_model import LinearRegression"
   ]
  },
  {
   "cell_type": "code",
   "execution_count": 25,
   "metadata": {},
   "outputs": [],
   "source": [
    "regr = LinearRegression()"
   ]
  },
  {
   "cell_type": "code",
   "execution_count": 26,
   "metadata": {},
   "outputs": [
    {
     "data": {
      "text/plain": [
       "LinearRegression()"
      ]
     },
     "execution_count": 26,
     "metadata": {},
     "output_type": "execute_result"
    }
   ],
   "source": [
    "regr.fit(X_train, y_train)"
   ]
  },
  {
   "cell_type": "code",
   "execution_count": 27,
   "metadata": {},
   "outputs": [],
   "source": [
    "test_preds = regr.predict(X_test)"
   ]
  },
  {
   "cell_type": "code",
   "execution_count": 28,
   "metadata": {},
   "outputs": [
    {
     "data": {
      "text/plain": [
       "array([25.53512869, 16.22982385, 15.97912443, 12.46832106, 28.93358077,\n",
       "       12.389785  , 18.38814689, 12.96058291, 25.8973212 , 16.62758758,\n",
       "       14.57865887, 17.42854142, 16.76456796, 17.06723232, 28.69096064,\n",
       "       12.60401467, 17.39141919, 22.89426937, 24.71720408, 11.35643946,\n",
       "       10.84374258, 30.69086579, 20.46700995, 17.09777173, 23.05278211,\n",
       "       23.09057772, 22.23810566, 15.12479879, 30.51677773, 14.84632904,\n",
       "       18.25287147, 27.95266181, 22.8178326 , 28.63934915, 27.25987384,\n",
       "       12.95169388, 18.30004476, 21.00345594, 10.56079031, 24.31519054,\n",
       "       19.42928903, 18.61042318, 25.04635549, 21.16227353, 13.32367912,\n",
       "       16.20588478, 25.28275735,  8.83098891, 19.92054526, 25.91195305,\n",
       "       20.81099459, 24.30145098, 23.15477623, 16.78292119,  7.84596864,\n",
       "       17.87425201, 13.83471239, 17.27889091, 29.14270437, 20.62357981,\n",
       "       21.5864883 , 19.15572275, 13.35185501, 25.3130877 , 18.26486612,\n",
       "       13.99352998, 19.44864023, 14.05329029, 16.17578659, 35.14543028,\n",
       "       29.79733769, 19.77676075,  8.79459496, 20.81059336, 17.21364853,\n",
       "       16.29278301, 16.60052388,  9.73129969, 22.19465689, 24.57044945,\n",
       "       19.15380202, 23.83586059, 18.00708418, 21.15983028, 22.0697924 ,\n",
       "       15.12240139, 15.80662454, 12.03887892, 16.3245602 , 10.89861639,\n",
       "       15.40648588, 17.24490477, 23.98744446, 22.61384222, 14.8967323 ,\n",
       "       23.54159076, 23.10065317, 29.01887978, 18.54466692, 21.74357671,\n",
       "        7.68610167, 25.39975067, 15.33202347, 20.99766259, 15.72833209,\n",
       "       12.82734794, 24.36860268, 25.75686116, 16.14152029, 16.9197384 ,\n",
       "       30.56466784, 15.64116962, 21.74699945, 21.67898833, 25.51907027,\n",
       "       13.93433372, 23.25354353, 26.6424027 , 16.07022504, 19.10589494,\n",
       "       22.78459872, 21.31823069, 30.41665691, 22.07825565, 16.02084987,\n",
       "       16.14159451, 10.47606125, 27.57426244, 18.37966066, 24.06701451,\n",
       "       21.8709327 , 25.39381046, 26.5485946 , 20.10408313, 11.95212323,\n",
       "       22.21323243, 12.14377881, 12.69579389, 13.18437713, 10.88209428,\n",
       "        8.88174047, 25.94801602, 21.38550645, 12.80921603, 19.24516529,\n",
       "       26.02087762, 18.36372232, 24.02541465, 33.77092277, 16.71016218,\n",
       "       23.97542525, 25.99593293, 29.85568167, 25.10445275, 24.5924514 ,\n",
       "       15.24772244, 20.20151552, 21.23453839, 23.61094832, 14.96647968,\n",
       "       29.11394314, 30.08953437, 18.2907145 , 19.22883713, 17.0095156 ,\n",
       "       10.59984432, 12.1976851 , 11.00424384, 25.08101868, 27.79106806,\n",
       "       22.2988017 , 12.25031704, 10.5911797 , 22.47784289, 17.99068179,\n",
       "       13.01840677, 13.16839136, 24.21343622, 21.50775637, 27.84842389,\n",
       "       28.4146241 , 21.36292838, 17.17536431, 24.23741564, 15.84725479,\n",
       "       33.69628889, 25.42896606, 23.74072144, 26.41763022, 26.72529132,\n",
       "       17.77198224, 17.73434063, 20.79332672, 20.99995189, 19.62623234,\n",
       "       18.09015293, 25.04851759, 16.79284111, 27.29890105, 29.17527261,\n",
       "       25.92741782, 26.69368718, 27.06809111, 28.77097742, 33.3843626 ,\n",
       "       26.83242079, 31.02401973, 16.59961153, 18.48215484, 20.83499857,\n",
       "       24.52233116, 28.04457375, 16.2025172 , 10.72835837, 19.39938671,\n",
       "       21.87769408, 21.80772626, 24.95987871, 21.00552909, 19.68694534,\n",
       "       12.6725772 , 18.46338185, 29.36355129, 15.90772485, 25.92621392,\n",
       "        7.178864  , 18.10981973, 15.56899595, 24.56782388, 16.08573688,\n",
       "       16.78228016,  7.54751217, 24.56682136, 15.22502273, 22.75079113,\n",
       "       21.4408175 , 19.96371755, 13.59808785, 13.50151693,  6.51443638,\n",
       "       12.96405548, 16.87179536, 31.48842527, 26.77459226, 27.9196065 ,\n",
       "        5.72467625, 27.5348186 , 14.49146751, 12.48284633, 17.28025034,\n",
       "       26.11789405, 12.92595967, 25.40898367, 23.20789682, 24.20014322,\n",
       "       15.02959127, 22.94057494, 19.88451984, 12.20720756, 25.47469251,\n",
       "       27.6964878 , 19.76900847, 12.92986341, 17.61793231, 11.63535629,\n",
       "       20.40461209, 11.91139419, 16.52364812, 23.26426765, 28.0045541 ,\n",
       "       18.79780958, 19.75437662, 22.67959848, 10.30841189,  3.37333506,\n",
       "       22.26065295, 19.20270759, 22.79380025, 15.99893968, 28.71301776,\n",
       "       33.35509978, 16.19605013, 13.07604533, 16.89012331, 13.12952736,\n",
       "       15.56026454, 18.87295184, 15.11214458, 22.71968491, 26.4047762 ,\n",
       "       10.88721731, 10.8638537 , 17.5722915 , 19.43844072, 30.24881325,\n",
       "       27.71966848, 25.04731368, 11.67530569, 19.0608706 , 10.55454438])"
      ]
     },
     "execution_count": 28,
     "metadata": {},
     "output_type": "execute_result"
    }
   ],
   "source": [
    "test_preds"
   ]
  },
  {
   "cell_type": "markdown",
   "metadata": {},
   "source": [
    "___\n",
    "___"
   ]
  },
  {
   "cell_type": "markdown",
   "metadata": {},
   "source": [
    "## Performance"
   ]
  },
  {
   "cell_type": "code",
   "execution_count": 29,
   "metadata": {},
   "outputs": [],
   "source": [
    "from sklearn.metrics import r2_score, mean_absolute_error, mean_squared_error"
   ]
  },
  {
   "cell_type": "code",
   "execution_count": 30,
   "metadata": {},
   "outputs": [
    {
     "name": "stdout",
     "output_type": "stream",
     "text": [
      "Theta :      0.25\n",
      "Intercept :  22.8\n",
      "R^2 :        0.84\n",
      "MAE :        2.24\n",
      "RMSE :       2.64\n"
     ]
    }
   ],
   "source": [
    "print(\"Theta :     \", round(regr.coef_[0],2))\n",
    "print(\"Intercept : \", round(regr.intercept_,2))\n",
    "print(\"R^2 :       \", round(r2_score(y_test,test_preds),2))\n",
    "print(\"MAE :       \", round(mean_absolute_error(y_test,test_preds),2))\n",
    "print(\"RMSE :      \", round(np.sqrt(mean_squared_error(y_test,test_preds)),2))"
   ]
  },
  {
   "cell_type": "code",
   "execution_count": 31,
   "metadata": {},
   "outputs": [
    {
     "data": {
      "text/plain": [
       "19.956"
      ]
     },
     "execution_count": 31,
     "metadata": {},
     "output_type": "execute_result"
    }
   ],
   "source": [
    "df[\"visits\"].mean()"
   ]
  },
  {
   "cell_type": "code",
   "execution_count": 32,
   "metadata": {},
   "outputs": [
    {
     "data": {
      "text/plain": [
       "6.455054742737022"
      ]
     },
     "execution_count": 32,
     "metadata": {},
     "output_type": "execute_result"
    }
   ],
   "source": [
    "df[\"visits\"].std()"
   ]
  },
  {
   "cell_type": "markdown",
   "metadata": {},
   "source": [
    "___\n",
    "___"
   ]
  },
  {
   "cell_type": "markdown",
   "metadata": {},
   "source": [
    "## FINAL"
   ]
  },
  {
   "cell_type": "code",
   "execution_count": 33,
   "metadata": {},
   "outputs": [],
   "source": [
    "final = LinearRegression()"
   ]
  },
  {
   "cell_type": "code",
   "execution_count": 34,
   "metadata": {},
   "outputs": [
    {
     "data": {
      "text/plain": [
       "LinearRegression()"
      ]
     },
     "execution_count": 34,
     "metadata": {},
     "output_type": "execute_result"
    }
   ],
   "source": [
    "final.fit(X,y)"
   ]
  },
  {
   "cell_type": "code",
   "execution_count": 35,
   "metadata": {},
   "outputs": [],
   "source": [
    "y_hat = final.predict(X)"
   ]
  },
  {
   "cell_type": "code",
   "execution_count": 36,
   "metadata": {},
   "outputs": [
    {
     "data": {
      "text/plain": [
       "array([ 0.24622291,  0.10675596,  0.017792  ,  0.17551431, -0.17984967])"
      ]
     },
     "execution_count": 36,
     "metadata": {},
     "output_type": "execute_result"
    }
   ],
   "source": [
    "final.coef_"
   ]
  },
  {
   "cell_type": "code",
   "execution_count": 37,
   "metadata": {},
   "outputs": [],
   "source": [
    "coef_df = pd.DataFrame(final.coef_, X.columns,columns=[\"Katsayı\"])"
   ]
  },
  {
   "cell_type": "code",
   "execution_count": 38,
   "metadata": {},
   "outputs": [
    {
     "data": {
      "text/html": [
       "<div>\n",
       "<style scoped>\n",
       "    .dataframe tbody tr th:only-of-type {\n",
       "        vertical-align: middle;\n",
       "    }\n",
       "\n",
       "    .dataframe tbody tr th {\n",
       "        vertical-align: top;\n",
       "    }\n",
       "\n",
       "    .dataframe thead th {\n",
       "        text-align: right;\n",
       "    }\n",
       "</style>\n",
       "<table border=\"1\" class=\"dataframe\">\n",
       "  <thead>\n",
       "    <tr style=\"text-align: right;\">\n",
       "      <th></th>\n",
       "      <th>Katsayı</th>\n",
       "    </tr>\n",
       "  </thead>\n",
       "  <tbody>\n",
       "    <tr>\n",
       "      <th>yas</th>\n",
       "      <td>0.246223</td>\n",
       "    </tr>\n",
       "    <tr>\n",
       "      <th>cins</th>\n",
       "      <td>0.106756</td>\n",
       "    </tr>\n",
       "    <tr>\n",
       "      <th>irk</th>\n",
       "      <td>0.017792</td>\n",
       "    </tr>\n",
       "    <tr>\n",
       "      <th>kilo</th>\n",
       "      <td>0.175514</td>\n",
       "    </tr>\n",
       "    <tr>\n",
       "      <th>boy</th>\n",
       "      <td>-0.179850</td>\n",
       "    </tr>\n",
       "  </tbody>\n",
       "</table>\n",
       "</div>"
      ],
      "text/plain": [
       "       Katsayı\n",
       "yas   0.246223\n",
       "cins  0.106756\n",
       "irk   0.017792\n",
       "kilo  0.175514\n",
       "boy  -0.179850"
      ]
     },
     "execution_count": 38,
     "metadata": {},
     "output_type": "execute_result"
    }
   ],
   "source": [
    "coef_df"
   ]
  },
  {
   "cell_type": "code",
   "execution_count": 39,
   "metadata": {},
   "outputs": [
    {
     "name": "stdout",
     "output_type": "stream",
     "text": [
      "45.019\n",
      "0.481\n",
      "3.155\n",
      "90.283\n",
      "170.914\n"
     ]
    }
   ],
   "source": [
    "print(df[\"yas\"].mean())\n",
    "print(df[\"cins\"].mean())\n",
    "print(df[\"irk\"].mean())\n",
    "print(df[\"kilo\"].mean())\n",
    "print(df[\"boy\"].mean())"
   ]
  },
  {
   "cell_type": "code",
   "execution_count": 40,
   "metadata": {},
   "outputs": [],
   "source": [
    "insancık = [[25,0,3,45,150]]"
   ]
  },
  {
   "cell_type": "code",
   "execution_count": 41,
   "metadata": {},
   "outputs": [
    {
     "name": "stderr",
     "output_type": "stream",
     "text": [
      "c:\\Users\\mbatu\\anaconda3\\lib\\site-packages\\sklearn\\base.py:450: UserWarning: X does not have valid feature names, but LinearRegression was fitted with feature names\n",
      "  warnings.warn(\n"
     ]
    },
    {
     "data": {
      "text/plain": [
       "array([10.78631769])"
      ]
     },
     "execution_count": 41,
     "metadata": {},
     "output_type": "execute_result"
    }
   ],
   "source": [
    "final.predict(insancık)"
   ]
  },
  {
   "cell_type": "markdown",
   "metadata": {},
   "source": [
    "___\n",
    "___"
   ]
  },
  {
   "cell_type": "markdown",
   "metadata": {},
   "source": [
    "## Modeli Kaydetmek"
   ]
  },
  {
   "cell_type": "code",
   "execution_count": 42,
   "metadata": {},
   "outputs": [],
   "source": [
    "from joblib import dump, load"
   ]
  },
  {
   "cell_type": "code",
   "execution_count": 43,
   "metadata": {},
   "outputs": [
    {
     "data": {
      "text/plain": [
       "['dr_visit_1.joblib']"
      ]
     },
     "execution_count": 43,
     "metadata": {},
     "output_type": "execute_result"
    }
   ],
   "source": [
    "dump(final, \"dr_visit_1.joblib\")"
   ]
  },
  {
   "cell_type": "code",
   "execution_count": 44,
   "metadata": {},
   "outputs": [],
   "source": [
    "model_yukle = load(\"dr_visit_1.joblib\")"
   ]
  },
  {
   "cell_type": "code",
   "execution_count": 45,
   "metadata": {},
   "outputs": [
    {
     "name": "stderr",
     "output_type": "stream",
     "text": [
      "c:\\Users\\mbatu\\anaconda3\\lib\\site-packages\\sklearn\\base.py:450: UserWarning: X does not have valid feature names, but LinearRegression was fitted with feature names\n",
      "  warnings.warn(\n"
     ]
    },
    {
     "data": {
      "text/plain": [
       "array([10.78631769])"
      ]
     },
     "execution_count": 45,
     "metadata": {},
     "output_type": "execute_result"
    }
   ],
   "source": [
    "model_yukle.predict(insancık)"
   ]
  },
  {
   "cell_type": "markdown",
   "metadata": {},
   "source": [
    "___\n",
    "___"
   ]
  },
  {
   "cell_type": "markdown",
   "metadata": {},
   "source": [
    "## Residual ve Son Grafik "
   ]
  },
  {
   "cell_type": "code",
   "execution_count": 46,
   "metadata": {},
   "outputs": [],
   "source": [
    "residuals = y_hat - y"
   ]
  },
  {
   "cell_type": "code",
   "execution_count": 47,
   "metadata": {},
   "outputs": [
    {
     "data": {
      "text/plain": [
       "<matplotlib.lines.Line2D at 0x15a249709a0>"
      ]
     },
     "execution_count": 47,
     "metadata": {},
     "output_type": "execute_result"
    },
    {
     "data": {
      "image/png": "[encoded data removed]",
      "text/plain": [
       "<Figure size 432x288 with 1 Axes>"
      ]
     },
     "metadata": {
      "needs_background": "light"
     },
     "output_type": "display_data"
    }
   ],
   "source": [
    "sns.scatterplot(x=y, y=residuals)\n",
    "plt.axhline(y= 0, color=\"b\", ls=\"--\")"
   ]
  },
  {
   "cell_type": "code",
   "execution_count": 48,
   "metadata": {},
   "outputs": [
    {
     "data": {
      "image/png": "[encoded data removed]",
      "text/plain": [
       "<Figure size 1152x864 with 6 Axes>"
      ]
     },
     "metadata": {
      "needs_background": "light"
     },
     "output_type": "display_data"
    }
   ],
   "source": [
    "fig,axes = plt.subplots(nrows=2,ncols=3,figsize=(16,12))\n",
    "\n",
    "axes[0,0].plot(df['yas'],df['visits'],'o')\n",
    "axes[0,0].plot(df['yas'],y_hat,'o',color='red')\n",
    "axes[0,0].set_ylabel(\"visits\")\n",
    "\n",
    "axes[0,1].plot(df['cins'],df['visits'],'o')\n",
    "axes[0,1].plot(df['cins'],y_hat,'o',color='red')\n",
    "axes[0,1].set_ylabel(\"visits\")\n",
    "\n",
    "axes[0,2].plot(df['irk'],df['visits'],'o')\n",
    "axes[0,2].plot(df['irk'],y_hat,'o',color='red')\n",
    "axes[0,2].set_ylabel(\"visits\")\n",
    "\n",
    "axes[1,0].plot(df['kilo'],df['visits'],'o')\n",
    "axes[1,0].plot(df['kilo'],y_hat,'o',color='red')\n",
    "axes[1,0].set_ylabel(\"visits\")\n",
    "\n",
    "axes[1,1].plot(df['boy'],df['visits'],'o')\n",
    "axes[1,1].plot(df['boy'],y_hat,'o',color='red')\n",
    "axes[1,1].set_ylabel(\"visits\")\n",
    "\n",
    "plt.tight_layout();"
   ]
  },
  {
   "cell_type": "markdown",
   "metadata": {},
   "source": [
    "___\n",
    "___"
   ]
  },
  {
   "cell_type": "markdown",
   "metadata": {},
   "source": [
    "# **Eline Sağlık Doktor**"
   ]
  }
 ],
 "metadata": {
  "interpreter": {
   "hash": "5ff393b50e062acb3f950345d2a9ba472eefef394df8d413112dca3e4dfea570"
  },
  "kernelspec": {
   "display_name": "Python 3.8.8 ('base')",
   "language": "python",
   "name": "python3"
  },
  "language_info": {
   "codemirror_mode": {
    "name": "ipython",
    "version": 3
   },
   "file_extension": ".py",
   "mimetype": "text/x-python",
   "name": "python",
   "nbconvert_exporter": "python",
   "pygments_lexer": "ipython3",
   "version": "3.9.12"
  },
  "orig_nbformat": 4
 },
 "nbformat": 4,
 "nbformat_minor": 2
}
